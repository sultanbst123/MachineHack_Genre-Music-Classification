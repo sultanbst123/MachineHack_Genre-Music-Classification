{
  "nbformat": 4,
  "nbformat_minor": 0,
  "metadata": {
    "colab": {
      "name": "Music_Genre_Classification.ipynb",
      "provenance": [],
      "collapsed_sections": [
        "EX9D0gMATq42",
        "901QWODvU0O1",
        "AVPA8lcBV2M7",
        "DXsE6jl8k6xh",
        "sms8mrx3Wbgj",
        "_kUwZQMGXZi4",
        "7dmHHk-iWPuW",
        "oKGk6dB_cL8S"
      ],
      "mount_file_id": "1bfguLC5dirxjR6gxz8lVLSTGQKmN9xkw",
      "authorship_tag": "ABX9TyPBn52ZmRuTV9/b8ibNCxA5",
      "include_colab_link": true
    },
    "kernelspec": {
      "name": "python3",
      "display_name": "Python 3"
    },
    "language_info": {
      "name": "python"
    }
  },
  "cells": [
    {
      "cell_type": "markdown",
      "metadata": {
        "id": "view-in-github",
        "colab_type": "text"
      },
      "source": [
        "<a href=\"https://colab.research.google.com/github/sultanbst123/MachineHack_Genre-Music-Classification/blob/main/Music_Genre_Classification.ipynb\" target=\"_parent\"><img src=\"https://colab.research.google.com/assets/colab-badge.svg\" alt=\"Open In Colab\"/></a>"
      ]
    },
    {
      "cell_type": "markdown",
      "metadata": {
        "id": "794SpT8iTnH9"
      },
      "source": [
        "#Data modelling with Python"
      ]
    },
    {
      "cell_type": "markdown",
      "metadata": {
        "id": "EX9D0gMATq42"
      },
      "source": [
        "##Library & File"
      ]
    },
    {
      "cell_type": "code",
      "metadata": {
        "colab": {
          "base_uri": "https://localhost:8080/"
        },
        "id": "wwk-e_4KTJf2",
        "outputId": "432467a0-4aa4-4376-fce4-a61130b3af8f"
      },
      "source": [
        "!pip install --upgrade scikit-learn"
      ],
      "execution_count": null,
      "outputs": [
        {
          "output_type": "stream",
          "name": "stdout",
          "text": [
            "Requirement already satisfied: scikit-learn in /usr/local/lib/python3.7/dist-packages (0.22.2.post1)\n",
            "Collecting scikit-learn\n",
            "  Downloading scikit_learn-1.0.1-cp37-cp37m-manylinux_2_12_x86_64.manylinux2010_x86_64.whl (23.2 MB)\n",
            "\u001b[K     |████████████████████████████████| 23.2 MB 1.5 MB/s \n",
            "\u001b[?25hRequirement already satisfied: scipy>=1.1.0 in /usr/local/lib/python3.7/dist-packages (from scikit-learn) (1.4.1)\n",
            "Requirement already satisfied: joblib>=0.11 in /usr/local/lib/python3.7/dist-packages (from scikit-learn) (1.0.1)\n",
            "Collecting threadpoolctl>=2.0.0\n",
            "  Downloading threadpoolctl-3.0.0-py3-none-any.whl (14 kB)\n",
            "Requirement already satisfied: numpy>=1.14.6 in /usr/local/lib/python3.7/dist-packages (from scikit-learn) (1.19.5)\n",
            "Installing collected packages: threadpoolctl, scikit-learn\n",
            "  Attempting uninstall: scikit-learn\n",
            "    Found existing installation: scikit-learn 0.22.2.post1\n",
            "    Uninstalling scikit-learn-0.22.2.post1:\n",
            "      Successfully uninstalled scikit-learn-0.22.2.post1\n",
            "Successfully installed scikit-learn-1.0.1 threadpoolctl-3.0.0\n"
          ]
        }
      ]
    },
    {
      "cell_type": "code",
      "metadata": {
        "colab": {
          "base_uri": "https://localhost:8080/"
        },
        "id": "hx22UW7hTfyK",
        "outputId": "1256eaf7-ca4d-4bf9-f3a3-b3e65e3fdd4e"
      },
      "source": [
        "\n",
        "!pip install catboost\n",
        "!pip install optuna\n",
        "!pip install borutashap"
      ],
      "execution_count": null,
      "outputs": [
        {
          "output_type": "stream",
          "name": "stdout",
          "text": [
            "Collecting catboost\n",
            "  Downloading catboost-1.0.0-cp37-none-manylinux1_x86_64.whl (76.4 MB)\n",
            "\u001b[K     |████████████████████████████████| 76.4 MB 38 kB/s \n",
            "\u001b[?25hRequirement already satisfied: plotly in /usr/local/lib/python3.7/dist-packages (from catboost) (4.4.1)\n",
            "Requirement already satisfied: scipy in /usr/local/lib/python3.7/dist-packages (from catboost) (1.4.1)\n",
            "Requirement already satisfied: pandas>=0.24.0 in /usr/local/lib/python3.7/dist-packages (from catboost) (1.1.5)\n",
            "Requirement already satisfied: six in /usr/local/lib/python3.7/dist-packages (from catboost) (1.15.0)\n",
            "Requirement already satisfied: matplotlib in /usr/local/lib/python3.7/dist-packages (from catboost) (3.2.2)\n",
            "Requirement already satisfied: numpy>=1.16.0 in /usr/local/lib/python3.7/dist-packages (from catboost) (1.19.5)\n",
            "Requirement already satisfied: graphviz in /usr/local/lib/python3.7/dist-packages (from catboost) (0.10.1)\n",
            "Requirement already satisfied: python-dateutil>=2.7.3 in /usr/local/lib/python3.7/dist-packages (from pandas>=0.24.0->catboost) (2.8.2)\n",
            "Requirement already satisfied: pytz>=2017.2 in /usr/local/lib/python3.7/dist-packages (from pandas>=0.24.0->catboost) (2018.9)\n",
            "Requirement already satisfied: kiwisolver>=1.0.1 in /usr/local/lib/python3.7/dist-packages (from matplotlib->catboost) (1.3.2)\n",
            "Requirement already satisfied: cycler>=0.10 in /usr/local/lib/python3.7/dist-packages (from matplotlib->catboost) (0.10.0)\n",
            "Requirement already satisfied: pyparsing!=2.0.4,!=2.1.2,!=2.1.6,>=2.0.1 in /usr/local/lib/python3.7/dist-packages (from matplotlib->catboost) (2.4.7)\n",
            "Requirement already satisfied: retrying>=1.3.3 in /usr/local/lib/python3.7/dist-packages (from plotly->catboost) (1.3.3)\n",
            "Installing collected packages: catboost\n",
            "Successfully installed catboost-1.0.0\n",
            "Collecting optuna\n",
            "  Downloading optuna-2.10.0-py3-none-any.whl (308 kB)\n",
            "\u001b[K     |████████████████████████████████| 308 kB 5.1 MB/s \n",
            "\u001b[?25hRequirement already satisfied: numpy in /usr/local/lib/python3.7/dist-packages (from optuna) (1.19.5)\n",
            "Requirement already satisfied: scipy!=1.4.0 in /usr/local/lib/python3.7/dist-packages (from optuna) (1.4.1)\n",
            "Requirement already satisfied: sqlalchemy>=1.1.0 in /usr/local/lib/python3.7/dist-packages (from optuna) (1.4.25)\n",
            "Requirement already satisfied: PyYAML in /usr/local/lib/python3.7/dist-packages (from optuna) (3.13)\n",
            "Collecting cliff\n",
            "  Downloading cliff-3.9.0-py3-none-any.whl (80 kB)\n",
            "\u001b[K     |████████████████████████████████| 80 kB 8.8 MB/s \n",
            "\u001b[?25hRequirement already satisfied: packaging>=20.0 in /usr/local/lib/python3.7/dist-packages (from optuna) (21.0)\n",
            "Requirement already satisfied: tqdm in /usr/local/lib/python3.7/dist-packages (from optuna) (4.62.3)\n",
            "Collecting colorlog\n",
            "  Downloading colorlog-6.5.0-py2.py3-none-any.whl (11 kB)\n",
            "Collecting alembic\n",
            "  Downloading alembic-1.7.4-py3-none-any.whl (209 kB)\n",
            "\u001b[K     |████████████████████████████████| 209 kB 49.3 MB/s \n",
            "\u001b[?25hCollecting cmaes>=0.8.2\n",
            "  Downloading cmaes-0.8.2-py3-none-any.whl (15 kB)\n",
            "Requirement already satisfied: pyparsing>=2.0.2 in /usr/local/lib/python3.7/dist-packages (from packaging>=20.0->optuna) (2.4.7)\n",
            "Requirement already satisfied: greenlet!=0.4.17 in /usr/local/lib/python3.7/dist-packages (from sqlalchemy>=1.1.0->optuna) (1.1.2)\n",
            "Requirement already satisfied: importlib-metadata in /usr/local/lib/python3.7/dist-packages (from sqlalchemy>=1.1.0->optuna) (4.8.1)\n",
            "Requirement already satisfied: importlib-resources in /usr/local/lib/python3.7/dist-packages (from alembic->optuna) (5.2.2)\n",
            "Collecting Mako\n",
            "  Downloading Mako-1.1.5-py2.py3-none-any.whl (75 kB)\n",
            "\u001b[K     |████████████████████████████████| 75 kB 4.1 MB/s \n",
            "\u001b[?25hCollecting stevedore>=2.0.1\n",
            "  Downloading stevedore-3.5.0-py3-none-any.whl (49 kB)\n",
            "\u001b[K     |████████████████████████████████| 49 kB 5.4 MB/s \n",
            "\u001b[?25hCollecting cmd2>=1.0.0\n",
            "  Downloading cmd2-2.2.0-py3-none-any.whl (144 kB)\n",
            "\u001b[K     |████████████████████████████████| 144 kB 66.9 MB/s \n",
            "\u001b[?25hRequirement already satisfied: PrettyTable>=0.7.2 in /usr/local/lib/python3.7/dist-packages (from cliff->optuna) (2.2.1)\n",
            "Collecting autopage>=0.4.0\n",
            "  Downloading autopage-0.4.0-py3-none-any.whl (20 kB)\n",
            "Collecting pbr!=2.1.0,>=2.0.0\n",
            "  Downloading pbr-5.6.0-py2.py3-none-any.whl (111 kB)\n",
            "\u001b[K     |████████████████████████████████| 111 kB 72.9 MB/s \n",
            "\u001b[?25hRequirement already satisfied: typing-extensions in /usr/local/lib/python3.7/dist-packages (from cmd2>=1.0.0->cliff->optuna) (3.7.4.3)\n",
            "Collecting colorama>=0.3.7\n",
            "  Downloading colorama-0.4.4-py2.py3-none-any.whl (16 kB)\n",
            "Requirement already satisfied: wcwidth>=0.1.7 in /usr/local/lib/python3.7/dist-packages (from cmd2>=1.0.0->cliff->optuna) (0.2.5)\n",
            "Collecting pyperclip>=1.6\n",
            "  Downloading pyperclip-1.8.2.tar.gz (20 kB)\n",
            "Requirement already satisfied: attrs>=16.3.0 in /usr/local/lib/python3.7/dist-packages (from cmd2>=1.0.0->cliff->optuna) (21.2.0)\n",
            "Requirement already satisfied: zipp>=0.5 in /usr/local/lib/python3.7/dist-packages (from importlib-metadata->sqlalchemy>=1.1.0->optuna) (3.6.0)\n",
            "Requirement already satisfied: MarkupSafe>=0.9.2 in /usr/local/lib/python3.7/dist-packages (from Mako->alembic->optuna) (2.0.1)\n",
            "Building wheels for collected packages: pyperclip\n",
            "  Building wheel for pyperclip (setup.py) ... \u001b[?25l\u001b[?25hdone\n",
            "  Created wheel for pyperclip: filename=pyperclip-1.8.2-py3-none-any.whl size=11136 sha256=8ce8aeb2846e77f398f59c3be7e7a76a180cbc3bb1d20a0629a0d3d5621d1b33\n",
            "  Stored in directory: /root/.cache/pip/wheels/9f/18/84/8f69f8b08169c7bae2dde6bd7daf0c19fca8c8e500ee620a28\n",
            "Successfully built pyperclip\n",
            "Installing collected packages: pyperclip, pbr, colorama, stevedore, Mako, cmd2, autopage, colorlog, cmaes, cliff, alembic, optuna\n",
            "Successfully installed Mako-1.1.5 alembic-1.7.4 autopage-0.4.0 cliff-3.9.0 cmaes-0.8.2 cmd2-2.2.0 colorama-0.4.4 colorlog-6.5.0 optuna-2.10.0 pbr-5.6.0 pyperclip-1.8.2 stevedore-3.5.0\n",
            "Collecting borutashap\n",
            "  Downloading BorutaShap-1.0.16-py3-none-any.whl (13 kB)\n",
            "Requirement already satisfied: matplotlib in /usr/local/lib/python3.7/dist-packages (from borutashap) (3.2.2)\n",
            "Requirement already satisfied: scikit-learn in /usr/local/lib/python3.7/dist-packages (from borutashap) (1.0.1)\n",
            "Requirement already satisfied: tqdm in /usr/local/lib/python3.7/dist-packages (from borutashap) (4.62.3)\n",
            "Collecting shap>=0.34.0\n",
            "  Downloading shap-0.40.0.tar.gz (371 kB)\n",
            "\u001b[K     |████████████████████████████████| 371 kB 5.1 MB/s \n",
            "\u001b[?25h  Installing build dependencies ... \u001b[?25l\u001b[?25hdone\n",
            "  Getting requirements to build wheel ... \u001b[?25l\u001b[?25hdone\n",
            "    Preparing wheel metadata ... \u001b[?25l\u001b[?25hdone\n",
            "Requirement already satisfied: scipy in /usr/local/lib/python3.7/dist-packages (from borutashap) (1.4.1)\n",
            "Requirement already satisfied: statsmodels in /usr/local/lib/python3.7/dist-packages (from borutashap) (0.10.2)\n",
            "Requirement already satisfied: numpy in /usr/local/lib/python3.7/dist-packages (from borutashap) (1.19.5)\n",
            "Requirement already satisfied: seaborn in /usr/local/lib/python3.7/dist-packages (from borutashap) (0.11.2)\n",
            "Requirement already satisfied: pandas in /usr/local/lib/python3.7/dist-packages (from borutashap) (1.1.5)\n",
            "Collecting slicer==0.0.7\n",
            "  Downloading slicer-0.0.7-py3-none-any.whl (14 kB)\n",
            "Requirement already satisfied: packaging>20.9 in /usr/local/lib/python3.7/dist-packages (from shap>=0.34.0->borutashap) (21.0)\n",
            "Requirement already satisfied: numba in /usr/local/lib/python3.7/dist-packages (from shap>=0.34.0->borutashap) (0.51.2)\n",
            "Requirement already satisfied: cloudpickle in /usr/local/lib/python3.7/dist-packages (from shap>=0.34.0->borutashap) (1.3.0)\n",
            "Requirement already satisfied: pyparsing>=2.0.2 in /usr/local/lib/python3.7/dist-packages (from packaging>20.9->shap>=0.34.0->borutashap) (2.4.7)\n",
            "Requirement already satisfied: cycler>=0.10 in /usr/local/lib/python3.7/dist-packages (from matplotlib->borutashap) (0.10.0)\n",
            "Requirement already satisfied: python-dateutil>=2.1 in /usr/local/lib/python3.7/dist-packages (from matplotlib->borutashap) (2.8.2)\n",
            "Requirement already satisfied: kiwisolver>=1.0.1 in /usr/local/lib/python3.7/dist-packages (from matplotlib->borutashap) (1.3.2)\n",
            "Requirement already satisfied: six in /usr/local/lib/python3.7/dist-packages (from cycler>=0.10->matplotlib->borutashap) (1.15.0)\n",
            "Requirement already satisfied: setuptools in /usr/local/lib/python3.7/dist-packages (from numba->shap>=0.34.0->borutashap) (57.4.0)\n",
            "Requirement already satisfied: llvmlite<0.35,>=0.34.0.dev0 in /usr/local/lib/python3.7/dist-packages (from numba->shap>=0.34.0->borutashap) (0.34.0)\n",
            "Requirement already satisfied: pytz>=2017.2 in /usr/local/lib/python3.7/dist-packages (from pandas->borutashap) (2018.9)\n",
            "Requirement already satisfied: joblib>=0.11 in /usr/local/lib/python3.7/dist-packages (from scikit-learn->borutashap) (1.0.1)\n",
            "Requirement already satisfied: threadpoolctl>=2.0.0 in /usr/local/lib/python3.7/dist-packages (from scikit-learn->borutashap) (3.0.0)\n",
            "Requirement already satisfied: patsy>=0.4.0 in /usr/local/lib/python3.7/dist-packages (from statsmodels->borutashap) (0.5.2)\n",
            "Building wheels for collected packages: shap\n",
            "  Building wheel for shap (PEP 517) ... \u001b[?25l\u001b[?25hdone\n",
            "  Created wheel for shap: filename=shap-0.40.0-cp37-cp37m-linux_x86_64.whl size=509259 sha256=3a46ce958e222753bf569a83d851fca90e4d38683e360bd72252419db0d5b306\n",
            "  Stored in directory: /root/.cache/pip/wheels/ec/35/84/e304841ac4b910bc95fe9a6e5302eb2507b4333728851dcbfb\n",
            "Successfully built shap\n",
            "Installing collected packages: slicer, shap, borutashap\n",
            "Successfully installed borutashap-1.0.16 shap-0.40.0 slicer-0.0.7\n"
          ]
        }
      ]
    },
    {
      "cell_type": "code",
      "metadata": {
        "id": "VwQkHKwVTlzc"
      },
      "source": [
        "import pandas as pd\n",
        "import numpy as np\n",
        "import matplotlib.pyplot as plt\n",
        "import seaborn as sns\n",
        "import optuna\n",
        "from BorutaShap import BorutaShap\n",
        " \n",
        "# classification\n",
        "import xgboost, lightgbm, catboost\n",
        "from xgboost import XGBClassifier\n",
        "from catboost import CatBoostClassifier\n",
        "from lightgbm import LGBMClassifier\n",
        "from sklearn.tree import DecisionTreeClassifier, ExtraTreeClassifier\n",
        "from sklearn.ensemble import (RandomForestClassifier, StackingClassifier, GradientBoostingClassifier,\n",
        "                             AdaBoostClassifier, HistGradientBoostingClassifier) \n",
        "from sklearn.svm import SVC\n",
        "from sklearn.linear_model import LogisticRegression, SGDClassifier\n",
        "from sklearn.neighbors import KNeighborsClassifier\n",
        " \n",
        "# regression\n",
        "from xgboost import XGBRegressor\n",
        "from catboost import CatBoostRegressor\n",
        "from lightgbm import LGBMRegressor\n",
        "from sklearn.tree import DecisionTreeRegressor, ExtraTreeRegressor\n",
        "from sklearn.ensemble import (RandomForestRegressor, GradientBoostingRegressor,\n",
        "                             AdaBoostRegressor, HistGradientBoostingRegressor) \n",
        "from sklearn.svm import SVR\n",
        "from sklearn.linear_model import LinearRegression, Ridge, Lasso, ElasticNet, SGDOneClassSVM\n",
        "from sklearn.neighbors import KNeighborsRegressor\n",
        "\n",
        "#preprocessing\n",
        "from sklearn.model_selection import train_test_split, KFold, cross_val_score, StratifiedKFold, GridSearchCV\n",
        "from sklearn.metrics import (accuracy_score, classification_report, confusion_matrix, \n",
        "                            log_loss, roc_auc_score, plot_roc_curve,plot_confusion_matrix) \n",
        "from sklearn.metrics import mean_absolute_error, mean_squared_error, mean_squared_log_error\n",
        "from sklearn.preprocessing import LabelEncoder,OneHotEncoder, StandardScaler, MinMaxScaler, RobustScaler\n",
        "from sklearn.calibration import CalibrationDisplay\n",
        "\n",
        "\n",
        "import warnings\n",
        "warnings.filterwarnings(\"ignore\")\n",
        " \n",
        "%matplotlib inline"
      ],
      "execution_count": null,
      "outputs": []
    },
    {
      "cell_type": "code",
      "metadata": {
        "id": "LGtnZC89TxFC"
      },
      "source": [
        "train = pd.read_csv(\"/content/drive/MyDrive/Genre music classification/train_genre_music(clean).csv\")\n",
        "test = pd.read_csv(\"/content/drive/MyDrive/Genre music classification/test_genre_music(clean).csv\")"
      ],
      "execution_count": null,
      "outputs": []
    },
    {
      "cell_type": "code",
      "metadata": {
        "colab": {
          "base_uri": "https://localhost:8080/"
        },
        "id": "U_N8Bd6oUndx",
        "outputId": "9eeeb78a-860f-4e50-e718-33f2c0c8bfe6"
      },
      "source": [
        "train.info()"
      ],
      "execution_count": null,
      "outputs": [
        {
          "output_type": "stream",
          "name": "stdout",
          "text": [
            "<class 'pandas.core.frame.DataFrame'>\n",
            "RangeIndex: 17996 entries, 0 to 17995\n",
            "Data columns (total 23 columns):\n",
            " #   Column                 Non-Null Count  Dtype  \n",
            "---  ------                 --------------  -----  \n",
            " 0   Popularity             17996 non-null  float64\n",
            " 1   danceability           17996 non-null  float64\n",
            " 2   energy                 17996 non-null  float64\n",
            " 3   key                    17996 non-null  int64  \n",
            " 4   loudness               17996 non-null  float64\n",
            " 5   mode                   17996 non-null  int64  \n",
            " 6   speechiness            17996 non-null  float64\n",
            " 7   acousticness           17996 non-null  float64\n",
            " 8   instrumentalness       17996 non-null  float64\n",
            " 9   liveness               17996 non-null  float64\n",
            " 10  valence                17996 non-null  float64\n",
            " 11  tempo                  17996 non-null  float64\n",
            " 12  duration_in min/ms     17996 non-null  float64\n",
            " 13  time_signature         17996 non-null  int64  \n",
            " 14  Class_Genre            17996 non-null  object \n",
            " 15  length_of_artist_name  17996 non-null  int64  \n",
            " 16  length_of_track_name   17996 non-null  int64  \n",
            " 17  length_words_artist    17996 non-null  int64  \n",
            " 18  length_words_track     17996 non-null  int64  \n",
            " 19  most_popularity        17996 non-null  float64\n",
            " 20  most_energy            17996 non-null  float64\n",
            " 21  new                    17996 non-null  float64\n",
            " 22  new2                   17996 non-null  float64\n",
            "dtypes: float64(15), int64(7), object(1)\n",
            "memory usage: 3.2+ MB\n"
          ]
        }
      ]
    },
    {
      "cell_type": "code",
      "metadata": {
        "colab": {
          "base_uri": "https://localhost:8080/"
        },
        "id": "ctGXcnwDUpmb",
        "outputId": "c9d4c72a-6d2d-43d2-a1bd-3f2c42a4c183"
      },
      "source": [
        "train.head()"
      ],
      "execution_count": null,
      "outputs": [
        {
          "output_type": "execute_result",
          "data": {
            "text/html": [
              "<div>\n",
              "<style scoped>\n",
              "    .dataframe tbody tr th:only-of-type {\n",
              "        vertical-align: middle;\n",
              "    }\n",
              "\n",
              "    .dataframe tbody tr th {\n",
              "        vertical-align: top;\n",
              "    }\n",
              "\n",
              "    .dataframe thead th {\n",
              "        text-align: right;\n",
              "    }\n",
              "</style>\n",
              "<table border=\"1\" class=\"dataframe\">\n",
              "  <thead>\n",
              "    <tr style=\"text-align: right;\">\n",
              "      <th></th>\n",
              "      <th>Popularity</th>\n",
              "      <th>danceability</th>\n",
              "      <th>energy</th>\n",
              "      <th>key</th>\n",
              "      <th>loudness</th>\n",
              "      <th>mode</th>\n",
              "      <th>speechiness</th>\n",
              "      <th>acousticness</th>\n",
              "      <th>instrumentalness</th>\n",
              "      <th>liveness</th>\n",
              "      <th>valence</th>\n",
              "      <th>tempo</th>\n",
              "      <th>duration_in min/ms</th>\n",
              "      <th>time_signature</th>\n",
              "      <th>Class_Genre</th>\n",
              "      <th>length_of_artist_name</th>\n",
              "      <th>length_of_track_name</th>\n",
              "      <th>length_words_artist</th>\n",
              "      <th>length_words_track</th>\n",
              "      <th>most_popularity</th>\n",
              "      <th>most_energy</th>\n",
              "      <th>new</th>\n",
              "      <th>new2</th>\n",
              "    </tr>\n",
              "  </thead>\n",
              "  <tbody>\n",
              "    <tr>\n",
              "      <th>0</th>\n",
              "      <td>60.0</td>\n",
              "      <td>0.854</td>\n",
              "      <td>0.564</td>\n",
              "      <td>1</td>\n",
              "      <td>-4.964</td>\n",
              "      <td>1</td>\n",
              "      <td>0.0485</td>\n",
              "      <td>0.017100</td>\n",
              "      <td>0.003910</td>\n",
              "      <td>0.0849</td>\n",
              "      <td>0.8990</td>\n",
              "      <td>134.071</td>\n",
              "      <td>234596.0</td>\n",
              "      <td>4</td>\n",
              "      <td>HipHop</td>\n",
              "      <td>10</td>\n",
              "      <td>37</td>\n",
              "      <td>2</td>\n",
              "      <td>7</td>\n",
              "      <td>82.0</td>\n",
              "      <td>0.843</td>\n",
              "      <td>0.709</td>\n",
              "      <td>134.071</td>\n",
              "    </tr>\n",
              "    <tr>\n",
              "      <th>1</th>\n",
              "      <td>54.0</td>\n",
              "      <td>0.382</td>\n",
              "      <td>0.814</td>\n",
              "      <td>3</td>\n",
              "      <td>-7.230</td>\n",
              "      <td>1</td>\n",
              "      <td>0.0406</td>\n",
              "      <td>0.001100</td>\n",
              "      <td>0.004010</td>\n",
              "      <td>0.1010</td>\n",
              "      <td>0.5690</td>\n",
              "      <td>116.454</td>\n",
              "      <td>251733.0</td>\n",
              "      <td>4</td>\n",
              "      <td>Rock</td>\n",
              "      <td>6</td>\n",
              "      <td>12</td>\n",
              "      <td>1</td>\n",
              "      <td>3</td>\n",
              "      <td>79.0</td>\n",
              "      <td>0.814</td>\n",
              "      <td>0.598</td>\n",
              "      <td>116.454</td>\n",
              "    </tr>\n",
              "    <tr>\n",
              "      <th>2</th>\n",
              "      <td>35.0</td>\n",
              "      <td>0.434</td>\n",
              "      <td>0.614</td>\n",
              "      <td>6</td>\n",
              "      <td>-8.334</td>\n",
              "      <td>1</td>\n",
              "      <td>0.0525</td>\n",
              "      <td>0.486000</td>\n",
              "      <td>0.000196</td>\n",
              "      <td>0.3940</td>\n",
              "      <td>0.7870</td>\n",
              "      <td>147.681</td>\n",
              "      <td>109667.0</td>\n",
              "      <td>4</td>\n",
              "      <td>Indie Alt</td>\n",
              "      <td>13</td>\n",
              "      <td>18</td>\n",
              "      <td>2</td>\n",
              "      <td>5</td>\n",
              "      <td>50.0</td>\n",
              "      <td>0.854</td>\n",
              "      <td>0.524</td>\n",
              "      <td>147.681</td>\n",
              "    </tr>\n",
              "    <tr>\n",
              "      <th>3</th>\n",
              "      <td>66.0</td>\n",
              "      <td>0.853</td>\n",
              "      <td>0.597</td>\n",
              "      <td>10</td>\n",
              "      <td>-6.528</td>\n",
              "      <td>0</td>\n",
              "      <td>0.0555</td>\n",
              "      <td>0.021200</td>\n",
              "      <td>0.003910</td>\n",
              "      <td>0.1220</td>\n",
              "      <td>0.5690</td>\n",
              "      <td>107.033</td>\n",
              "      <td>173968.0</td>\n",
              "      <td>4</td>\n",
              "      <td>HipHop</td>\n",
              "      <td>4</td>\n",
              "      <td>26</td>\n",
              "      <td>1</td>\n",
              "      <td>5</td>\n",
              "      <td>66.0</td>\n",
              "      <td>0.713</td>\n",
              "      <td>0.725</td>\n",
              "      <td>107.033</td>\n",
              "    </tr>\n",
              "    <tr>\n",
              "      <th>4</th>\n",
              "      <td>53.0</td>\n",
              "      <td>0.167</td>\n",
              "      <td>0.975</td>\n",
              "      <td>2</td>\n",
              "      <td>-4.279</td>\n",
              "      <td>1</td>\n",
              "      <td>0.2160</td>\n",
              "      <td>0.000169</td>\n",
              "      <td>0.016100</td>\n",
              "      <td>0.1720</td>\n",
              "      <td>0.0918</td>\n",
              "      <td>199.060</td>\n",
              "      <td>229960.0</td>\n",
              "      <td>4</td>\n",
              "      <td>Rock</td>\n",
              "      <td>21</td>\n",
              "      <td>33</td>\n",
              "      <td>4</td>\n",
              "      <td>6</td>\n",
              "      <td>81.0</td>\n",
              "      <td>0.983</td>\n",
              "      <td>0.571</td>\n",
              "      <td>199.060</td>\n",
              "    </tr>\n",
              "  </tbody>\n",
              "</table>\n",
              "</div>"
            ],
            "text/plain": [
              "   Popularity  danceability  energy  ...  most_energy    new     new2\n",
              "0        60.0         0.854   0.564  ...        0.843  0.709  134.071\n",
              "1        54.0         0.382   0.814  ...        0.814  0.598  116.454\n",
              "2        35.0         0.434   0.614  ...        0.854  0.524  147.681\n",
              "3        66.0         0.853   0.597  ...        0.713  0.725  107.033\n",
              "4        53.0         0.167   0.975  ...        0.983  0.571  199.060\n",
              "\n",
              "[5 rows x 23 columns]"
            ]
          },
          "metadata": {},
          "execution_count": 6
        }
      ]
    },
    {
      "cell_type": "code",
      "metadata": {
        "id": "Ne5K6qK8Uyf9"
      },
      "source": [
        "def save_ram(df, verbose=True):\n",
        "    numerics = ['int16', 'int32', 'int64', 'float16', 'float32', 'float64']\n",
        "    start_mem = df.memory_usage().sum() / 1024**2\n",
        "    for col in df.columns:\n",
        "        col_type = df[col].dtypes\n",
        "        if col_type in numerics:\n",
        "            c_min = df[col].min()\n",
        "            c_max = df[col].max()\n",
        "            if str(col_type)[:3] == 'int':\n",
        "                if c_min > np.iinfo(np.int8).min and c_max < np.iinfo(np.int8).max:\n",
        "                    df[col] = df[col].astype(np.int8)\n",
        "                elif c_min > np.iinfo(np.int16).min and c_max < np.iinfo(np.int16).max:\n",
        "                    df[col] = df[col].astype(np.int16)\n",
        "                elif c_min > np.iinfo(np.int32).min and c_max < np.iinfo(np.int32).max:\n",
        "                    df[col] = df[col].astype(np.int32)\n",
        "                elif c_min > np.iinfo(np.int64).min and c_max < np.iinfo(np.int64).max:\n",
        "                    df[col] = df[col].astype(np.int64)\n",
        "            else:\n",
        "                if c_min > np.finfo(np.float16).min and c_max < np.finfo(np.float16).max:\n",
        "                    df[col] = df[col].astype(np.float16)\n",
        "                elif c_min > np.finfo(np.float32).min and c_max < np.finfo(np.float32).max:\n",
        "                    df[col] = df[col].astype(np.float32)\n",
        "                else:\n",
        "                    df[col] = df[col].astype(np.float64)\n",
        "\n",
        "    end_mem = df.memory_usage().sum() / 1024**2\n",
        "\n",
        "    print(f\"After Diet : {round(end_mem, 2)}MB\")\n",
        "    print(f\"Reduced: {round(100*(start_mem - end_mem)/(start_mem), 2)}%\")\n",
        "\n",
        "    return df"
      ],
      "execution_count": null,
      "outputs": []
    },
    {
      "cell_type": "code",
      "metadata": {
        "colab": {
          "base_uri": "https://localhost:8080/"
        },
        "id": "miBE41YKi-la",
        "outputId": "a35e76ab-5f69-4a69-9310-7c46c061672a"
      },
      "source": [
        "train = save_ram(train)\n",
        "test = save_ram(test)"
      ],
      "execution_count": null,
      "outputs": [
        {
          "output_type": "stream",
          "name": "stdout",
          "text": [
            "After Diet : 0.84MB\n",
            "Reduced: 73.37%\n",
            "After Diet : 0.29MB\n",
            "Reduced: 77.27%\n"
          ]
        }
      ]
    },
    {
      "cell_type": "markdown",
      "metadata": {
        "id": "901QWODvU0O1"
      },
      "source": [
        "## Split data"
      ]
    },
    {
      "cell_type": "code",
      "metadata": {
        "id": "ItMRD_JbU2-4"
      },
      "source": [
        "tester = test.copy() \n",
        "\n",
        "x = train.drop(\"Class_Genre\", axis=1)\n",
        "y = train.Class_Genre"
      ],
      "execution_count": null,
      "outputs": []
    },
    {
      "cell_type": "code",
      "metadata": {
        "id": "5HhugWoiVKbO"
      },
      "source": [
        "cater = x.select_dtypes(exclude=\"number\").columns"
      ],
      "execution_count": null,
      "outputs": []
    },
    {
      "cell_type": "code",
      "metadata": {
        "id": "DI9UPWpUVVpF"
      },
      "source": [
        "x[cater] = x[cater].astype(\"category\")\n",
        "tester[cater] = tester[cater].astype(\"category\")"
      ],
      "execution_count": null,
      "outputs": []
    },
    {
      "cell_type": "code",
      "metadata": {
        "id": "9e_D6KgPVIX9"
      },
      "source": [
        "x_train,x_val,y_train,y_val = train_test_split(x, y, test_size=0.2, random_state=1618)"
      ],
      "execution_count": null,
      "outputs": []
    },
    {
      "cell_type": "code",
      "metadata": {
        "colab": {
          "base_uri": "https://localhost:8080/"
        },
        "id": "jbvy2nJUVx2s",
        "outputId": "18cf0e97-7255-4140-d8c1-c99d2b4acbc0"
      },
      "source": [
        "x_train.head()"
      ],
      "execution_count": null,
      "outputs": [
        {
          "output_type": "execute_result",
          "data": {
            "text/html": [
              "<div>\n",
              "<style scoped>\n",
              "    .dataframe tbody tr th:only-of-type {\n",
              "        vertical-align: middle;\n",
              "    }\n",
              "\n",
              "    .dataframe tbody tr th {\n",
              "        vertical-align: top;\n",
              "    }\n",
              "\n",
              "    .dataframe thead th {\n",
              "        text-align: right;\n",
              "    }\n",
              "</style>\n",
              "<table border=\"1\" class=\"dataframe\">\n",
              "  <thead>\n",
              "    <tr style=\"text-align: right;\">\n",
              "      <th></th>\n",
              "      <th>Popularity</th>\n",
              "      <th>danceability</th>\n",
              "      <th>energy</th>\n",
              "      <th>key</th>\n",
              "      <th>loudness</th>\n",
              "      <th>mode</th>\n",
              "      <th>speechiness</th>\n",
              "      <th>acousticness</th>\n",
              "      <th>instrumentalness</th>\n",
              "      <th>liveness</th>\n",
              "      <th>valence</th>\n",
              "      <th>tempo</th>\n",
              "      <th>duration_in min/ms</th>\n",
              "      <th>time_signature</th>\n",
              "      <th>length_of_artist_name</th>\n",
              "      <th>length_of_track_name</th>\n",
              "      <th>length_words_artist</th>\n",
              "      <th>length_words_track</th>\n",
              "      <th>most_popularity</th>\n",
              "      <th>most_energy</th>\n",
              "      <th>new</th>\n",
              "      <th>new2</th>\n",
              "    </tr>\n",
              "  </thead>\n",
              "  <tbody>\n",
              "    <tr>\n",
              "      <th>13297</th>\n",
              "      <td>53.0</td>\n",
              "      <td>0.343994</td>\n",
              "      <td>0.911133</td>\n",
              "      <td>10</td>\n",
              "      <td>-5.996094</td>\n",
              "      <td>1</td>\n",
              "      <td>0.053986</td>\n",
              "      <td>0.000050</td>\n",
              "      <td>0.001660</td>\n",
              "      <td>0.064209</td>\n",
              "      <td>0.509766</td>\n",
              "      <td>135.2500</td>\n",
              "      <td>320333.000000</td>\n",
              "      <td>4</td>\n",
              "      <td>23</td>\n",
              "      <td>9</td>\n",
              "      <td>3</td>\n",
              "      <td>1</td>\n",
              "      <td>55.0</td>\n",
              "      <td>0.937988</td>\n",
              "      <td>0.627441</td>\n",
              "      <td>135.250000</td>\n",
              "    </tr>\n",
              "    <tr>\n",
              "      <th>17216</th>\n",
              "      <td>71.0</td>\n",
              "      <td>0.717773</td>\n",
              "      <td>0.690918</td>\n",
              "      <td>4</td>\n",
              "      <td>-6.441406</td>\n",
              "      <td>1</td>\n",
              "      <td>0.038696</td>\n",
              "      <td>0.015900</td>\n",
              "      <td>0.003910</td>\n",
              "      <td>0.062683</td>\n",
              "      <td>0.551758</td>\n",
              "      <td>100.0000</td>\n",
              "      <td>213107.000000</td>\n",
              "      <td>4</td>\n",
              "      <td>24</td>\n",
              "      <td>14</td>\n",
              "      <td>3</td>\n",
              "      <td>3</td>\n",
              "      <td>71.0</td>\n",
              "      <td>0.716797</td>\n",
              "      <td>0.704590</td>\n",
              "      <td>100.000000</td>\n",
              "    </tr>\n",
              "    <tr>\n",
              "      <th>5014</th>\n",
              "      <td>20.0</td>\n",
              "      <td>0.637207</td>\n",
              "      <td>0.612793</td>\n",
              "      <td>8</td>\n",
              "      <td>-7.343750</td>\n",
              "      <td>1</td>\n",
              "      <td>0.074829</td>\n",
              "      <td>0.318115</td>\n",
              "      <td>0.000003</td>\n",
              "      <td>0.111023</td>\n",
              "      <td>0.570801</td>\n",
              "      <td>90.0625</td>\n",
              "      <td>4.400000</td>\n",
              "      <td>4</td>\n",
              "      <td>9</td>\n",
              "      <td>35</td>\n",
              "      <td>1</td>\n",
              "      <td>5</td>\n",
              "      <td>20.0</td>\n",
              "      <td>0.629883</td>\n",
              "      <td>0.625000</td>\n",
              "      <td>2.060547</td>\n",
              "    </tr>\n",
              "    <tr>\n",
              "      <th>385</th>\n",
              "      <td>20.0</td>\n",
              "      <td>0.269043</td>\n",
              "      <td>0.154053</td>\n",
              "      <td>9</td>\n",
              "      <td>-18.078125</td>\n",
              "      <td>1</td>\n",
              "      <td>0.038696</td>\n",
              "      <td>0.930176</td>\n",
              "      <td>0.750977</td>\n",
              "      <td>0.109009</td>\n",
              "      <td>0.104004</td>\n",
              "      <td>134.8750</td>\n",
              "      <td>6.858217</td>\n",
              "      <td>4</td>\n",
              "      <td>76</td>\n",
              "      <td>59</td>\n",
              "      <td>12</td>\n",
              "      <td>11</td>\n",
              "      <td>20.0</td>\n",
              "      <td>0.154053</td>\n",
              "      <td>0.211548</td>\n",
              "      <td>4.511719</td>\n",
              "    </tr>\n",
              "    <tr>\n",
              "      <th>16199</th>\n",
              "      <td>73.0</td>\n",
              "      <td>0.404053</td>\n",
              "      <td>0.720215</td>\n",
              "      <td>10</td>\n",
              "      <td>-9.179688</td>\n",
              "      <td>0</td>\n",
              "      <td>0.062286</td>\n",
              "      <td>0.000056</td>\n",
              "      <td>0.835938</td>\n",
              "      <td>0.046600</td>\n",
              "      <td>0.475098</td>\n",
              "      <td>121.8750</td>\n",
              "      <td>258467.000000</td>\n",
              "      <td>4</td>\n",
              "      <td>21</td>\n",
              "      <td>27</td>\n",
              "      <td>3</td>\n",
              "      <td>4</td>\n",
              "      <td>75.0</td>\n",
              "      <td>0.875977</td>\n",
              "      <td>0.562012</td>\n",
              "      <td>121.875000</td>\n",
              "    </tr>\n",
              "  </tbody>\n",
              "</table>\n",
              "</div>"
            ],
            "text/plain": [
              "       Popularity  danceability    energy  ...  most_energy       new        new2\n",
              "13297        53.0      0.343994  0.911133  ...     0.937988  0.627441  135.250000\n",
              "17216        71.0      0.717773  0.690918  ...     0.716797  0.704590  100.000000\n",
              "5014         20.0      0.637207  0.612793  ...     0.629883  0.625000    2.060547\n",
              "385          20.0      0.269043  0.154053  ...     0.154053  0.211548    4.511719\n",
              "16199        73.0      0.404053  0.720215  ...     0.875977  0.562012  121.875000\n",
              "\n",
              "[5 rows x 22 columns]"
            ]
          },
          "metadata": {},
          "execution_count": 13
        }
      ]
    },
    {
      "cell_type": "code",
      "metadata": {
        "colab": {
          "base_uri": "https://localhost:8080/"
        },
        "id": "1U113meMV1ku",
        "outputId": "43643b2d-2c80-4007-9c85-2b63114b790d"
      },
      "source": [
        "y.value_counts()"
      ],
      "execution_count": null,
      "outputs": [
        {
          "output_type": "execute_result",
          "data": {
            "text/plain": [
              "Rock             4949\n",
              "Indie Alt        2587\n",
              "Pop              2524\n",
              "Metal            1854\n",
              "HipHop           1447\n",
              "Alt Music        1373\n",
              "Blues            1272\n",
              "Acoustic/Folk     625\n",
              "Instrumental      576\n",
              "Bollywood         402\n",
              "Country           387\n",
              "Name: Class_Genre, dtype: int64"
            ]
          },
          "metadata": {},
          "execution_count": 14
        }
      ]
    },
    {
      "cell_type": "markdown",
      "metadata": {
        "id": "AVPA8lcBV2M7"
      },
      "source": [
        "##Test data with LGBM"
      ]
    },
    {
      "cell_type": "markdown",
      "metadata": {
        "id": "CdOhKFpGg0Dw"
      },
      "source": [
        "Test with LGBM"
      ]
    },
    {
      "cell_type": "code",
      "metadata": {
        "id": "BsOpI9FSV9FA"
      },
      "source": [
        "LG = LGBMClassifier(random_state=18)"
      ],
      "execution_count": null,
      "outputs": []
    },
    {
      "cell_type": "code",
      "metadata": {
        "colab": {
          "base_uri": "https://localhost:8080/"
        },
        "id": "zgfkMoRHWO5l",
        "outputId": "2aae143d-e598-4ea4-9f2c-467883869377"
      },
      "source": [
        "LG.fit(x_train, y_train)"
      ],
      "execution_count": null,
      "outputs": [
        {
          "output_type": "execute_result",
          "data": {
            "text/plain": [
              "LGBMClassifier(random_state=18)"
            ]
          },
          "metadata": {},
          "execution_count": 16
        }
      ]
    },
    {
      "cell_type": "code",
      "metadata": {
        "colab": {
          "base_uri": "https://localhost:8080/"
        },
        "id": "gtAgqjqvWTYr",
        "outputId": "b8105e6b-a48f-44a9-9cdd-3426cdd4448e"
      },
      "source": [
        "print(f\"accuracy train: {LG.score(x_train, y_train)}\")\n",
        "print(f\"accuracy val: {LG.score(x_val, y_val)}\")"
      ],
      "execution_count": null,
      "outputs": [
        {
          "output_type": "stream",
          "name": "stdout",
          "text": [
            "accuracy train: 0.777229786051681\n",
            "accuracy val: 0.5861111111111111\n"
          ]
        }
      ]
    },
    {
      "cell_type": "code",
      "metadata": {
        "id": "xXkP4eteYV1D"
      },
      "source": [
        "pred = LG.predict_proba(x_val)"
      ],
      "execution_count": null,
      "outputs": []
    },
    {
      "cell_type": "code",
      "metadata": {
        "colab": {
          "base_uri": "https://localhost:8080/"
        },
        "id": "hbhHk1M8Yjmj",
        "outputId": "700ff267-48d6-4793-e55d-8448e04a2afc"
      },
      "source": [
        "log_loss(y_val, pred)"
      ],
      "execution_count": null,
      "outputs": [
        {
          "output_type": "execute_result",
          "data": {
            "text/plain": [
              "1.0935778049172022"
            ]
          },
          "metadata": {},
          "execution_count": 78
        }
      ]
    },
    {
      "cell_type": "code",
      "metadata": {
        "colab": {
          "base_uri": "https://localhost:8080/",
          "height": 238
        },
        "id": "uxFpwpfSY57f",
        "outputId": "7e6c9d13-e31c-48e1-fc2a-91bb79d08bd5"
      },
      "source": [
        "Label = {}\n",
        "train_label_ohe = pd.get_dummies(y_train)\n",
        "val_label_ohe = pd.get_dummies(y_val) \n",
        "\n",
        "for i in range(11): # all label\n",
        "    mdl = LGBMClassifier(random_state=19)\n",
        "    mdl.fit(x_train,train_label_ohe.iloc[:,i]) \n",
        "    #plot \n",
        "    ax = plt.gca()\n",
        "    Label[i] = plot_roc_curve(mdl, x_val, val_label_ohe.iloc[:,i], ax=ax,name=train_label_ohe.iloc[:,i].name)\n",
        "\n",
        "plt.legend(title=\"Music Genre\")"
      ],
      "execution_count": null,
      "outputs": [
        {
          "output_type": "execute_result",
          "data": {
            "text/plain": [
              "<matplotlib.legend.Legend at 0x7f5590bfd050>"
            ]
          },
          "metadata": {},
          "execution_count": 83
        },
        {
          "output_type": "display_data",
          "data": {
            "image/png": "[encoded data removed]",
            "text/plain": [
              "<Figure size 432x288 with 1 Axes>"
            ]
          },
          "metadata": {
            "needs_background": "light"
          }
        }
      ]
    },
    {
      "cell_type": "code",
      "metadata": {
        "colab": {
          "base_uri": "https://localhost:8080/",
          "height": 278
        },
        "id": "27LHvPZ6kNWO",
        "outputId": "04a84411-0d9e-4774-f7cf-2cdbd96ab891"
      },
      "source": [
        "fig, ax = plt.subplots(1, 1,figsize=(20,15))\n",
        "plot_confusion_matrix(LG, x_val, y_val,ax=ax)"
      ],
      "execution_count": null,
      "outputs": [
        {
          "output_type": "execute_result",
          "data": {
            "text/plain": [
              "<sklearn.metrics._plot.confusion_matrix.ConfusionMatrixDisplay at 0x7f09a39d5f90>"
            ]
          },
          "metadata": {},
          "execution_count": 22
        },
        {
          "output_type": "display_data",
          "data": {
            "image/png": "[encoded data removed]",
            "text/plain": [
              "<Figure size 1440x1080 with 2 Axes>"
            ]
          },
          "metadata": {
            "needs_background": "light"
          }
        }
      ]
    },
    {
      "cell_type": "code",
      "metadata": {
        "colab": {
          "base_uri": "https://localhost:8080/",
          "height": 210
        },
        "id": "mFROc7aZj3hN",
        "outputId": "46029287-a310-418e-f3d2-bea43f759fc2"
      },
      "source": [
        "lightgbm.plot_importance(LG)"
      ],
      "execution_count": null,
      "outputs": [
        {
          "output_type": "execute_result",
          "data": {
            "text/plain": [
              "<matplotlib.axes._subplots.AxesSubplot at 0x7f09a3ba3d10>"
            ]
          },
          "metadata": {},
          "execution_count": 18
        },
        {
          "output_type": "display_data",
          "data": {
            "image/png": "[encoded data removed]",
            "text/plain": [
              "<Figure size 432x288 with 1 Axes>"
            ]
          },
          "metadata": {
            "needs_background": "light"
          }
        }
      ]
    },
    {
      "cell_type": "code",
      "metadata": {
        "id": "qAglkuA9k5-2"
      },
      "source": [
        "loss = []\n",
        "acc_train = []\n",
        "acc_val = []"
      ],
      "execution_count": null,
      "outputs": []
    },
    {
      "cell_type": "markdown",
      "metadata": {
        "id": "DXsE6jl8k6xh"
      },
      "source": [
        "## Model-1"
      ]
    },
    {
      "cell_type": "code",
      "metadata": {
        "id": "Imc_V-XRk8kf"
      },
      "source": [
        "x_train_1 = x_train.copy()\n",
        "x_val_1 = x_val.copy()"
      ],
      "execution_count": null,
      "outputs": []
    },
    {
      "cell_type": "code",
      "metadata": {
        "colab": {
          "base_uri": "https://localhost:8080/"
        },
        "id": "wni9CmkwlMXl",
        "outputId": "e436ff42-72e9-40fe-b9c0-a78788b7cc29"
      },
      "source": [
        "x_train_1.dtypes"
      ],
      "execution_count": null,
      "outputs": [
        {
          "output_type": "execute_result",
          "data": {
            "text/plain": [
              "Popularity               float16\n",
              "danceability             float16\n",
              "energy                   float16\n",
              "key                         int8\n",
              "loudness                 float16\n",
              "mode                        int8\n",
              "speechiness              float16\n",
              "acousticness             float16\n",
              "instrumentalness         float16\n",
              "liveness                 float16\n",
              "valence                  float16\n",
              "tempo                    float16\n",
              "duration_in min/ms       float32\n",
              "time_signature              int8\n",
              "length_of_artist_name      int16\n",
              "length_of_track_name       int16\n",
              "length_words_artist         int8\n",
              "length_words_track          int8\n",
              "most_popularity          float16\n",
              "most_energy              float16\n",
              "new                      float16\n",
              "new2                     float16\n",
              "dtype: object"
            ]
          },
          "metadata": {},
          "execution_count": 17
        }
      ]
    },
    {
      "cell_type": "code",
      "metadata": {
        "id": "yZhlITXElQ0-"
      },
      "source": [
        "XGB = XGBClassifier(random_state=10)\n",
        "GBT = GradientBoostingClassifier(random_state=20)\n",
        "HGBT = HistGradientBoostingClassifier(random_state=30)\n",
        "ADA = AdaBoostClassifier(random_state=40)\n",
        "EXT = ExtraTreeClassifier(random_state=50)\n",
        "RF = RandomForestClassifier(random_state=60)\n",
        "DT = DecisionTreeClassifier(random_state=70)"
      ],
      "execution_count": null,
      "outputs": []
    },
    {
      "cell_type": "code",
      "metadata": {
        "id": "a7Juw9UDlYww"
      },
      "source": [
        "def score_1(model,x_train, y_train, x_val, y_val):\n",
        "\n",
        "    #fit model\n",
        "    model.fit(x_train,y_train)\n",
        "\n",
        "    #predict proba\n",
        "    prob = model.predict_proba(x_val)\n",
        "    loss.append(log_loss(y_val,prob)) \n",
        "\n",
        "    # accuracy train & val\n",
        "    acc_train.append(model.score(x_train,y_train)) \n",
        "    acc_val.append(model.score(x_val,y_val))\n",
        "    \n",
        "    return model"
      ],
      "execution_count": null,
      "outputs": []
    },
    {
      "cell_type": "code",
      "metadata": {
        "colab": {
          "base_uri": "https://localhost:8080/"
        },
        "id": "4mfXMJH3laj-",
        "outputId": "c52b811e-a52a-4804-e35d-7f8895577a57"
      },
      "source": [
        "for i in [XGB,ADA,GBT,HGBT,DT,RF,EXT]:\n",
        "    print(30*\"-\")\n",
        "    print(i)\n",
        "    score_1(i, x_train_1, y_train, x_val_1, y_val)\n",
        "    print(10*\"->\" + \" DONE\")"
      ],
      "execution_count": null,
      "outputs": [
        {
          "output_type": "stream",
          "name": "stdout",
          "text": [
            "------------------------------\n",
            "XGBClassifier(random_state=10)\n",
            "->->->->->->->->->-> DONE\n",
            "------------------------------\n",
            "AdaBoostClassifier(random_state=40)\n",
            "->->->->->->->->->-> DONE\n",
            "------------------------------\n",
            "GradientBoostingClassifier(random_state=20)\n",
            "->->->->->->->->->-> DONE\n",
            "------------------------------\n",
            "HistGradientBoostingClassifier(random_state=30)\n",
            "->->->->->->->->->-> DONE\n",
            "------------------------------\n",
            "DecisionTreeClassifier(random_state=70)\n",
            "->->->->->->->->->-> DONE\n",
            "------------------------------\n",
            "RandomForestClassifier(random_state=60)\n",
            "->->->->->->->->->-> DONE\n",
            "------------------------------\n",
            "ExtraTreeClassifier(random_state=50)\n",
            "->->->->->->->->->-> DONE\n"
          ]
        }
      ]
    },
    {
      "cell_type": "markdown",
      "metadata": {
        "id": "sms8mrx3Wbgj"
      },
      "source": [
        "##Model-2"
      ]
    },
    {
      "cell_type": "code",
      "metadata": {
        "id": "jXXRt4UyWfgl"
      },
      "source": [
        "x_train_2 = x_train.copy() \n",
        "x_val_2 = x_val.copy()"
      ],
      "execution_count": null,
      "outputs": []
    },
    {
      "cell_type": "code",
      "metadata": {
        "colab": {
          "base_uri": "https://localhost:8080/"
        },
        "id": "GQuBLSUEWuLg",
        "outputId": "b0353b7f-84f3-410f-995f-386fb38258b6"
      },
      "source": [
        "x_train_2.head()"
      ],
      "execution_count": null,
      "outputs": [
        {
          "output_type": "execute_result",
          "data": {
            "text/html": [
              "<div>\n",
              "<style scoped>\n",
              "    .dataframe tbody tr th:only-of-type {\n",
              "        vertical-align: middle;\n",
              "    }\n",
              "\n",
              "    .dataframe tbody tr th {\n",
              "        vertical-align: top;\n",
              "    }\n",
              "\n",
              "    .dataframe thead th {\n",
              "        text-align: right;\n",
              "    }\n",
              "</style>\n",
              "<table border=\"1\" class=\"dataframe\">\n",
              "  <thead>\n",
              "    <tr style=\"text-align: right;\">\n",
              "      <th></th>\n",
              "      <th>Popularity</th>\n",
              "      <th>danceability</th>\n",
              "      <th>energy</th>\n",
              "      <th>key</th>\n",
              "      <th>loudness</th>\n",
              "      <th>mode</th>\n",
              "      <th>speechiness</th>\n",
              "      <th>acousticness</th>\n",
              "      <th>instrumentalness</th>\n",
              "      <th>liveness</th>\n",
              "      <th>valence</th>\n",
              "      <th>tempo</th>\n",
              "      <th>duration_in min/ms</th>\n",
              "      <th>time_signature</th>\n",
              "      <th>length_of_artist_name</th>\n",
              "      <th>length_of_track_name</th>\n",
              "      <th>length_words_artist</th>\n",
              "      <th>length_words_track</th>\n",
              "      <th>most_popularity</th>\n",
              "      <th>most_energy</th>\n",
              "      <th>new</th>\n",
              "      <th>new2</th>\n",
              "    </tr>\n",
              "  </thead>\n",
              "  <tbody>\n",
              "    <tr>\n",
              "      <th>13297</th>\n",
              "      <td>53.0</td>\n",
              "      <td>0.343994</td>\n",
              "      <td>0.911133</td>\n",
              "      <td>10</td>\n",
              "      <td>-5.996094</td>\n",
              "      <td>1</td>\n",
              "      <td>0.053986</td>\n",
              "      <td>0.000050</td>\n",
              "      <td>0.001660</td>\n",
              "      <td>0.064209</td>\n",
              "      <td>0.509766</td>\n",
              "      <td>135.2500</td>\n",
              "      <td>320333.000000</td>\n",
              "      <td>4</td>\n",
              "      <td>23</td>\n",
              "      <td>9</td>\n",
              "      <td>3</td>\n",
              "      <td>1</td>\n",
              "      <td>55.0</td>\n",
              "      <td>0.937988</td>\n",
              "      <td>0.627441</td>\n",
              "      <td>135.250000</td>\n",
              "    </tr>\n",
              "    <tr>\n",
              "      <th>17216</th>\n",
              "      <td>71.0</td>\n",
              "      <td>0.717773</td>\n",
              "      <td>0.690918</td>\n",
              "      <td>4</td>\n",
              "      <td>-6.441406</td>\n",
              "      <td>1</td>\n",
              "      <td>0.038696</td>\n",
              "      <td>0.015900</td>\n",
              "      <td>0.003910</td>\n",
              "      <td>0.062683</td>\n",
              "      <td>0.551758</td>\n",
              "      <td>100.0000</td>\n",
              "      <td>213107.000000</td>\n",
              "      <td>4</td>\n",
              "      <td>24</td>\n",
              "      <td>14</td>\n",
              "      <td>3</td>\n",
              "      <td>3</td>\n",
              "      <td>71.0</td>\n",
              "      <td>0.716797</td>\n",
              "      <td>0.704590</td>\n",
              "      <td>100.000000</td>\n",
              "    </tr>\n",
              "    <tr>\n",
              "      <th>5014</th>\n",
              "      <td>20.0</td>\n",
              "      <td>0.637207</td>\n",
              "      <td>0.612793</td>\n",
              "      <td>8</td>\n",
              "      <td>-7.343750</td>\n",
              "      <td>1</td>\n",
              "      <td>0.074829</td>\n",
              "      <td>0.318115</td>\n",
              "      <td>0.000003</td>\n",
              "      <td>0.111023</td>\n",
              "      <td>0.570801</td>\n",
              "      <td>90.0625</td>\n",
              "      <td>4.400000</td>\n",
              "      <td>4</td>\n",
              "      <td>9</td>\n",
              "      <td>35</td>\n",
              "      <td>1</td>\n",
              "      <td>5</td>\n",
              "      <td>20.0</td>\n",
              "      <td>0.629883</td>\n",
              "      <td>0.625000</td>\n",
              "      <td>2.060547</td>\n",
              "    </tr>\n",
              "    <tr>\n",
              "      <th>385</th>\n",
              "      <td>20.0</td>\n",
              "      <td>0.269043</td>\n",
              "      <td>0.154053</td>\n",
              "      <td>9</td>\n",
              "      <td>-18.078125</td>\n",
              "      <td>1</td>\n",
              "      <td>0.038696</td>\n",
              "      <td>0.930176</td>\n",
              "      <td>0.750977</td>\n",
              "      <td>0.109009</td>\n",
              "      <td>0.104004</td>\n",
              "      <td>134.8750</td>\n",
              "      <td>6.858217</td>\n",
              "      <td>4</td>\n",
              "      <td>76</td>\n",
              "      <td>59</td>\n",
              "      <td>12</td>\n",
              "      <td>11</td>\n",
              "      <td>20.0</td>\n",
              "      <td>0.154053</td>\n",
              "      <td>0.211548</td>\n",
              "      <td>4.511719</td>\n",
              "    </tr>\n",
              "    <tr>\n",
              "      <th>16199</th>\n",
              "      <td>73.0</td>\n",
              "      <td>0.404053</td>\n",
              "      <td>0.720215</td>\n",
              "      <td>10</td>\n",
              "      <td>-9.179688</td>\n",
              "      <td>0</td>\n",
              "      <td>0.062286</td>\n",
              "      <td>0.000056</td>\n",
              "      <td>0.835938</td>\n",
              "      <td>0.046600</td>\n",
              "      <td>0.475098</td>\n",
              "      <td>121.8750</td>\n",
              "      <td>258467.000000</td>\n",
              "      <td>4</td>\n",
              "      <td>21</td>\n",
              "      <td>27</td>\n",
              "      <td>3</td>\n",
              "      <td>4</td>\n",
              "      <td>75.0</td>\n",
              "      <td>0.875977</td>\n",
              "      <td>0.562012</td>\n",
              "      <td>121.875000</td>\n",
              "    </tr>\n",
              "  </tbody>\n",
              "</table>\n",
              "</div>"
            ],
            "text/plain": [
              "       Popularity  danceability    energy  ...  most_energy       new        new2\n",
              "13297        53.0      0.343994  0.911133  ...     0.937988  0.627441  135.250000\n",
              "17216        71.0      0.717773  0.690918  ...     0.716797  0.704590  100.000000\n",
              "5014         20.0      0.637207  0.612793  ...     0.629883  0.625000    2.060547\n",
              "385          20.0      0.269043  0.154053  ...     0.154053  0.211548    4.511719\n",
              "16199        73.0      0.404053  0.720215  ...     0.875977  0.562012  121.875000\n",
              "\n",
              "[5 rows x 22 columns]"
            ]
          },
          "metadata": {},
          "execution_count": 22
        }
      ]
    },
    {
      "cell_type": "code",
      "metadata": {
        "id": "zgFWxHYlWyI3"
      },
      "source": [
        "CB = CatBoostClassifier(random_state=929)\n",
        "LGBM = LGBMClassifier(random_state=299)"
      ],
      "execution_count": null,
      "outputs": []
    },
    {
      "cell_type": "code",
      "metadata": {
        "id": "RR_zHq8JWdn4"
      },
      "source": [
        "\n",
        "def score_2(model,x_train, y_train, x_val, y_val):\n",
        "       \n",
        "    #lgbm\n",
        "    if model == LGBM:\n",
        "       model.fit(x_train,y_train,verbose=False)\n",
        "\n",
        "       #predict proba\n",
        "       prob = model.predict_proba(x_val)\n",
        "       loss.append(log_loss(y_val,prob))\n",
        "\n",
        "       # accuracy train & val\n",
        "       acc_train.append(model.score(x_train,y_train))\n",
        "       acc_val.append(model.score(x_val,y_val))\n",
        "    \n",
        "   #catboost\n",
        "    else:         \n",
        "       model.fit(x_train,y_train,verbose=False)\n",
        "\n",
        "       #predict proba\n",
        "       prob = model.predict_proba(x_val)\n",
        "       loss.append(log_loss(y_val,prob))\n",
        "\n",
        "       # accuracy train & val\n",
        "       acc_train.append(model.score(x_train,y_train))\n",
        "       acc_val.append(model.score(x_val,y_val))\n",
        "    \n",
        "\n",
        "    return model"
      ],
      "execution_count": null,
      "outputs": []
    },
    {
      "cell_type": "code",
      "metadata": {
        "colab": {
          "base_uri": "https://localhost:8080/"
        },
        "id": "sZmzQgE2W9LF",
        "outputId": "57d66ae3-95a1-4217-ac24-04fbd114d4dc"
      },
      "source": [
        "for i in [CB,LGBM]:\n",
        "    print(30*\"-\")\n",
        "    print(i)\n",
        "    score_2(i, x_train_2, y_train, x_val_2, y_val)\n",
        "    print(10*\"->\" + \" DONE\")"
      ],
      "execution_count": null,
      "outputs": [
        {
          "output_type": "stream",
          "name": "stdout",
          "text": [
            "------------------------------\n",
            "<catboost.core.CatBoostClassifier object at 0x7f10d3540990>\n",
            "->->->->->->->->->-> DONE\n",
            "------------------------------\n",
            "LGBMClassifier(random_state=299)\n",
            "->->->->->->->->->-> DONE\n"
          ]
        }
      ]
    },
    {
      "cell_type": "markdown",
      "metadata": {
        "id": "_kUwZQMGXZi4"
      },
      "source": [
        "## Model-3"
      ]
    },
    {
      "cell_type": "code",
      "metadata": {
        "id": "HovMO-d9XcF7"
      },
      "source": [
        "x_train_3 = x_train.copy()\n",
        "x_val_3 = x_val.copy()"
      ],
      "execution_count": null,
      "outputs": []
    },
    {
      "cell_type": "code",
      "metadata": {
        "id": "8zJzHf1pXiqo"
      },
      "source": [
        "sc = StandardScaler()\n",
        "x_train_3 = sc.fit_transform(x_train_3)\n",
        "x_val_3 = sc.transform(x_val_3)"
      ],
      "execution_count": null,
      "outputs": []
    },
    {
      "cell_type": "code",
      "metadata": {
        "id": "MRTzkU2hXwIP"
      },
      "source": [
        "LR = LogisticRegression()\n",
        "#KNN = KNeighborsRegressor()\n",
        "#SGDC = SGDClassifier(random_state=2828)"
      ],
      "execution_count": null,
      "outputs": []
    },
    {
      "cell_type": "code",
      "metadata": {
        "id": "MVzkuor_YCSj"
      },
      "source": [
        "def score_3(model,x_train, y_train, x_val, y_val):\n",
        "\n",
        "    model.fit(x_train,y_train) \n",
        "\n",
        "    # predict proba\n",
        "    prob = model.predict_proba(x_val)\n",
        "    loss.append(log_loss(y_val,prob))\n",
        "\n",
        "    # accuracy train & val\n",
        "    acc_train.append(model.score(x_train,y_train))\n",
        "    acc_val.append(model.score(x_val,y_val))\n",
        "    \n",
        "    return model"
      ],
      "execution_count": null,
      "outputs": []
    },
    {
      "cell_type": "code",
      "metadata": {
        "id": "F41WSBPgYVsD",
        "colab": {
          "base_uri": "https://localhost:8080/"
        },
        "outputId": "a8f02624-1108-47b4-e0c2-1236575f50e9"
      },
      "source": [
        "for i in [LR]:\n",
        "    print(30*\"-\")\n",
        "    print(i)\n",
        "    score_3(i, x_train_3, y_train, x_val_3, y_val)\n",
        "    print(10*\"->\" + \" DONE\")"
      ],
      "execution_count": null,
      "outputs": [
        {
          "output_type": "stream",
          "name": "stdout",
          "text": [
            "------------------------------\n",
            "LogisticRegression()\n",
            "->->->->->->->->->-> DONE\n"
          ]
        }
      ]
    },
    {
      "cell_type": "markdown",
      "metadata": {
        "id": "7dmHHk-iWPuW"
      },
      "source": [
        "## Model-selection"
      ]
    },
    {
      "cell_type": "code",
      "metadata": {
        "id": "GG3SUvslnIu-"
      },
      "source": [
        "all_models = pd.DataFrame({\"models\": [\"XGB\", \"ADA\", \"GBT\", \"HGBT\", \"DT\", \"RF\", \"EXT\",\"CB\",\"LGBM\",\"LR\"], \n",
        "                          \"Log_loss\": loss, \n",
        "                          \"Train_accuracy\": acc_train,\n",
        "                          \"Val_accuracy\": acc_val})\n",
        "#all_models = all_models.set_index(\"models\")"
      ],
      "execution_count": null,
      "outputs": []
    },
    {
      "cell_type": "code",
      "metadata": {
        "colab": {
          "base_uri": "https://localhost:8080/"
        },
        "id": "jCE_VQVHnVXo",
        "outputId": "ed98599d-2319-4ca4-8559-9c5f125db884"
      },
      "source": [
        "all_models"
      ],
      "execution_count": null,
      "outputs": [
        {
          "output_type": "execute_result",
          "data": {
            "text/html": [
              "<div>\n",
              "<style scoped>\n",
              "    .dataframe tbody tr th:only-of-type {\n",
              "        vertical-align: middle;\n",
              "    }\n",
              "\n",
              "    .dataframe tbody tr th {\n",
              "        vertical-align: top;\n",
              "    }\n",
              "\n",
              "    .dataframe thead th {\n",
              "        text-align: right;\n",
              "    }\n",
              "</style>\n",
              "<table border=\"1\" class=\"dataframe\">\n",
              "  <thead>\n",
              "    <tr style=\"text-align: right;\">\n",
              "      <th></th>\n",
              "      <th>models</th>\n",
              "      <th>Log_loss</th>\n",
              "      <th>Train_accuracy</th>\n",
              "      <th>Val_accuracy</th>\n",
              "    </tr>\n",
              "  </thead>\n",
              "  <tbody>\n",
              "    <tr>\n",
              "      <th>0</th>\n",
              "      <td>XGB</td>\n",
              "      <td>1.156597</td>\n",
              "      <td>0.615796</td>\n",
              "      <td>0.565278</td>\n",
              "    </tr>\n",
              "    <tr>\n",
              "      <th>1</th>\n",
              "      <td>ADA</td>\n",
              "      <td>1.870463</td>\n",
              "      <td>0.402126</td>\n",
              "      <td>0.403056</td>\n",
              "    </tr>\n",
              "    <tr>\n",
              "      <th>2</th>\n",
              "      <td>GBT</td>\n",
              "      <td>1.133772</td>\n",
              "      <td>0.657335</td>\n",
              "      <td>0.574444</td>\n",
              "    </tr>\n",
              "    <tr>\n",
              "      <th>3</th>\n",
              "      <td>HGBT</td>\n",
              "      <td>1.111064</td>\n",
              "      <td>0.769936</td>\n",
              "      <td>0.581667</td>\n",
              "    </tr>\n",
              "    <tr>\n",
              "      <th>4</th>\n",
              "      <td>DT</td>\n",
              "      <td>19.292372</td>\n",
              "      <td>0.921784</td>\n",
              "      <td>0.418889</td>\n",
              "    </tr>\n",
              "    <tr>\n",
              "      <th>5</th>\n",
              "      <td>RF</td>\n",
              "      <td>1.456237</td>\n",
              "      <td>0.921784</td>\n",
              "      <td>0.540000</td>\n",
              "    </tr>\n",
              "    <tr>\n",
              "      <th>6</th>\n",
              "      <td>EXT</td>\n",
              "      <td>21.853486</td>\n",
              "      <td>0.921784</td>\n",
              "      <td>0.341667</td>\n",
              "    </tr>\n",
              "    <tr>\n",
              "      <th>7</th>\n",
              "      <td>CB</td>\n",
              "      <td>1.104484</td>\n",
              "      <td>0.823979</td>\n",
              "      <td>0.574444</td>\n",
              "    </tr>\n",
              "    <tr>\n",
              "      <th>8</th>\n",
              "      <td>LGBM</td>\n",
              "      <td>1.094712</td>\n",
              "      <td>0.777716</td>\n",
              "      <td>0.583333</td>\n",
              "    </tr>\n",
              "    <tr>\n",
              "      <th>9</th>\n",
              "      <td>LR</td>\n",
              "      <td>1.279637</td>\n",
              "      <td>0.534593</td>\n",
              "      <td>0.513611</td>\n",
              "    </tr>\n",
              "  </tbody>\n",
              "</table>\n",
              "</div>"
            ],
            "text/plain": [
              "  models   Log_loss  Train_accuracy  Val_accuracy\n",
              "0    XGB   1.156597        0.615796      0.565278\n",
              "1    ADA   1.870463        0.402126      0.403056\n",
              "2    GBT   1.133772        0.657335      0.574444\n",
              "3   HGBT   1.111064        0.769936      0.581667\n",
              "4     DT  19.292372        0.921784      0.418889\n",
              "5     RF   1.456237        0.921784      0.540000\n",
              "6    EXT  21.853486        0.921784      0.341667\n",
              "7     CB   1.104484        0.823979      0.574444\n",
              "8   LGBM   1.094712        0.777716      0.583333\n",
              "9     LR   1.279637        0.534593      0.513611"
            ]
          },
          "metadata": {},
          "execution_count": 51
        }
      ]
    },
    {
      "cell_type": "code",
      "metadata": {
        "colab": {
          "base_uri": "https://localhost:8080/"
        },
        "id": "274QRqloa9vZ",
        "outputId": "f6d22a3f-aceb-47cb-b10c-b49e830749f1"
      },
      "source": [
        "# plot log_loss\n",
        "\n",
        "plt.figure(figsize=(17, 8)) \n",
        "sns.barplot(x = \"models\", y=\"Log_loss\", data=all_models.sort_values(\"Log_loss\", ascending=True))\n",
        "plt.title(\"Log_loss\")\n",
        "plt.xlabel(\"Models\")\n",
        "plt.ylabel(\"Log_loss\")"
      ],
      "execution_count": null,
      "outputs": [
        {
          "output_type": "execute_result",
          "data": {
            "text/plain": [
              "Text(0, 0.5, 'Log_loss')"
            ]
          },
          "metadata": {},
          "execution_count": 33
        },
        {
          "output_type": "display_data",
          "data": {
            "image/png": "[encoded data removed]",
            "text/plain": [
              "<Figure size 1224x576 with 1 Axes>"
            ]
          },
          "metadata": {
            "needs_background": "light"
          }
        }
      ]
    },
    {
      "cell_type": "code",
      "metadata": {
        "id": "KGstheoRcLll"
      },
      "source": [
        ""
      ],
      "execution_count": null,
      "outputs": []
    },
    {
      "cell_type": "markdown",
      "metadata": {
        "id": "oKGk6dB_cL8S"
      },
      "source": [
        "##Hyperparameters - tuning"
      ]
    },
    {
      "cell_type": "code",
      "metadata": {
        "id": "GrG_MbYmcUVX"
      },
      "source": [
        "#lgbm\n",
        "def objective(trial):\n",
        "    params = {\n",
        "        #\"device_type\": trial.suggest_categorical(\"device_type\", ['gpu']),\n",
        "        #'objective': trial.suggest_categorical('objective',['multiclass']), \n",
        "        \"n_estimators\": trial.suggest_categorical(\"n_estimators\", [10000]),\n",
        "        \"learning_rate\": trial.suggest_float(\"learning_rate\", 0.01, 0.3),\n",
        "        \"num_leaves\": trial.suggest_int(\"num_leaves\", 20, 3000, step=20),\n",
        "        \"max_depth\": trial.suggest_int(\"max_depth\", 3, 12),\n",
        "        \"min_data_in_leaf\": trial.suggest_int(\"min_data_in_leaf\", 200, 10000, step=100),\n",
        "        \"lambda_l1\": trial.suggest_int(\"lambda_l1\", 0, 100, step=5),\n",
        "        \"lambda_l2\": trial.suggest_int(\"lambda_l2\", 0, 100, step=5),\n",
        "        \"min_gain_to_split\": trial.suggest_float(\"min_gain_to_split\", 0, 15),\n",
        "        \"bagging_fraction\": trial.suggest_float(\"bagging_fraction\", 0.2, 0.95, step=0.1),\n",
        "        \"bagging_freq\": trial.suggest_categorical(\"bagging_freq\", [1]),\n",
        "        \"feature_fraction\": trial.suggest_float(\"feature_fraction\", 0.2, 0.95, step=0.1),\n",
        "    }\n",
        "    model = LGBMClassifier(**params)  \n",
        "    model.fit(x_train,y_train,eval_set=[(x_val,y_val)],verbose=False,early_stopping_rounds=100)\n",
        "\n",
        "    y_preds = model.predict_proba(x_val)  \n",
        "    roc = log_loss(y_val, y_preds)\n",
        "\n",
        "    return roc"
      ],
      "execution_count": null,
      "outputs": []
    },
    {
      "cell_type": "code",
      "metadata": {
        "colab": {
          "base_uri": "https://localhost:8080/"
        },
        "id": "4KisF1ShcfMs",
        "outputId": "3d8cd4da-988f-46ce-c47c-c0ffc803242d"
      },
      "source": [
        "study = optuna.create_study(direction='minimize') #for loss\n",
        "study.optimize(objective, n_trials=75)"
      ],
      "execution_count": null,
      "outputs": [
        {
          "output_type": "stream",
          "name": "stderr",
          "text": [
            "\u001b[32m[I 2021-10-26 07:51:25,004]\u001b[0m A new study created in memory with name: no-name-4238c3b0-019b-4e28-8ff5-378169b1c5dc\u001b[0m\n",
            "\u001b[32m[I 2021-10-26 07:51:25,817]\u001b[0m Trial 0 finished with value: 2.136604827384357 and parameters: {'n_estimators': 10000, 'learning_rate': 0.01450885251916211, 'num_leaves': 1200, 'max_depth': 8, 'min_data_in_leaf': 3900, 'lambda_l1': 15, 'lambda_l2': 40, 'min_gain_to_split': 12.584108810423245, 'bagging_fraction': 0.30000000000000004, 'bagging_freq': 1, 'feature_fraction': 0.8}. Best is trial 0 with value: 2.136604827384357.\u001b[0m\n",
            "\u001b[32m[I 2021-10-26 07:51:26,657]\u001b[0m Trial 1 finished with value: 2.136604827384357 and parameters: {'n_estimators': 10000, 'learning_rate': 0.07384125442201207, 'num_leaves': 1620, 'max_depth': 4, 'min_data_in_leaf': 6300, 'lambda_l1': 5, 'lambda_l2': 45, 'min_gain_to_split': 3.644010353296009, 'bagging_fraction': 0.6000000000000001, 'bagging_freq': 1, 'feature_fraction': 0.8}. Best is trial 0 with value: 2.136604827384357.\u001b[0m\n",
            "\u001b[32m[I 2021-10-26 07:51:27,434]\u001b[0m Trial 2 finished with value: 2.136604827384357 and parameters: {'n_estimators': 10000, 'learning_rate': 0.14716561893270638, 'num_leaves': 920, 'max_depth': 7, 'min_data_in_leaf': 3100, 'lambda_l1': 55, 'lambda_l2': 20, 'min_gain_to_split': 12.21216738915156, 'bagging_fraction': 0.2, 'bagging_freq': 1, 'feature_fraction': 0.30000000000000004}. Best is trial 0 with value: 2.136604827384357.\u001b[0m\n",
            "\u001b[32m[I 2021-10-26 07:51:28,116]\u001b[0m Trial 3 finished with value: 2.136604827384357 and parameters: {'n_estimators': 10000, 'learning_rate': 0.09053707624139422, 'num_leaves': 2820, 'max_depth': 7, 'min_data_in_leaf': 9600, 'lambda_l1': 40, 'lambda_l2': 50, 'min_gain_to_split': 6.056556008643773, 'bagging_fraction': 0.9, 'bagging_freq': 1, 'feature_fraction': 0.7}. Best is trial 0 with value: 2.136604827384357.\u001b[0m\n",
            "\u001b[32m[I 2021-10-26 07:51:30,539]\u001b[0m Trial 4 finished with value: 1.58715341401846 and parameters: {'n_estimators': 10000, 'learning_rate': 0.11846356760961273, 'num_leaves': 2140, 'max_depth': 12, 'min_data_in_leaf': 2500, 'lambda_l1': 30, 'lambda_l2': 15, 'min_gain_to_split': 14.391187573355184, 'bagging_fraction': 0.6000000000000001, 'bagging_freq': 1, 'feature_fraction': 0.5}. Best is trial 4 with value: 1.58715341401846.\u001b[0m\n",
            "\u001b[32m[I 2021-10-26 07:51:32,299]\u001b[0m Trial 5 finished with value: 2.073845303289843 and parameters: {'n_estimators': 10000, 'learning_rate': 0.05873998386069488, 'num_leaves': 2740, 'max_depth': 9, 'min_data_in_leaf': 600, 'lambda_l1': 100, 'lambda_l2': 55, 'min_gain_to_split': 6.531740158722722, 'bagging_fraction': 0.2, 'bagging_freq': 1, 'feature_fraction': 0.6000000000000001}. Best is trial 4 with value: 1.58715341401846.\u001b[0m\n",
            "\u001b[32m[I 2021-10-26 07:51:35,429]\u001b[0m Trial 6 finished with value: 2.160115201228966 and parameters: {'n_estimators': 10000, 'learning_rate': 0.07682035894111704, 'num_leaves': 2240, 'max_depth': 7, 'min_data_in_leaf': 500, 'lambda_l1': 95, 'lambda_l2': 90, 'min_gain_to_split': 6.599761862522039, 'bagging_fraction': 0.4, 'bagging_freq': 1, 'feature_fraction': 0.30000000000000004}. Best is trial 4 with value: 1.58715341401846.\u001b[0m\n",
            "\u001b[32m[I 2021-10-26 07:51:36,119]\u001b[0m Trial 7 finished with value: 2.136604827384357 and parameters: {'n_estimators': 10000, 'learning_rate': 0.06909153699997972, 'num_leaves': 120, 'max_depth': 8, 'min_data_in_leaf': 9700, 'lambda_l1': 80, 'lambda_l2': 95, 'min_gain_to_split': 4.404869563303725, 'bagging_fraction': 0.5, 'bagging_freq': 1, 'feature_fraction': 0.2}. Best is trial 4 with value: 1.58715341401846.\u001b[0m\n",
            "\u001b[32m[I 2021-10-26 07:51:36,945]\u001b[0m Trial 8 finished with value: 2.136604827384357 and parameters: {'n_estimators': 10000, 'learning_rate': 0.24185975367978454, 'num_leaves': 2400, 'max_depth': 3, 'min_data_in_leaf': 3900, 'lambda_l1': 100, 'lambda_l2': 35, 'min_gain_to_split': 14.96497184954366, 'bagging_fraction': 0.2, 'bagging_freq': 1, 'feature_fraction': 0.2}. Best is trial 4 with value: 1.58715341401846.\u001b[0m\n",
            "\u001b[32m[I 2021-10-26 07:51:37,803]\u001b[0m Trial 9 finished with value: 2.136604827384357 and parameters: {'n_estimators': 10000, 'learning_rate': 0.23823312938899682, 'num_leaves': 2760, 'max_depth': 6, 'min_data_in_leaf': 6000, 'lambda_l1': 20, 'lambda_l2': 90, 'min_gain_to_split': 4.168403281578556, 'bagging_fraction': 0.6000000000000001, 'bagging_freq': 1, 'feature_fraction': 0.30000000000000004}. Best is trial 4 with value: 1.58715341401846.\u001b[0m\n",
            "\u001b[32m[I 2021-10-26 07:51:44,012]\u001b[0m Trial 10 finished with value: 1.329410594263911 and parameters: {'n_estimators': 10000, 'learning_rate': 0.17657312509603862, 'num_leaves': 1820, 'max_depth': 12, 'min_data_in_leaf': 2200, 'lambda_l1': 45, 'lambda_l2': 5, 'min_gain_to_split': 0.0884891640639891, 'bagging_fraction': 0.8, 'bagging_freq': 1, 'feature_fraction': 0.5}. Best is trial 10 with value: 1.329410594263911.\u001b[0m\n",
            "\u001b[32m[I 2021-10-26 07:51:48,257]\u001b[0m Trial 11 finished with value: 1.3475950538491912 and parameters: {'n_estimators': 10000, 'learning_rate': 0.16894804150825168, 'num_leaves': 1840, 'max_depth': 12, 'min_data_in_leaf': 2000, 'lambda_l1': 45, 'lambda_l2': 0, 'min_gain_to_split': 0.6993258978551253, 'bagging_fraction': 0.8, 'bagging_freq': 1, 'feature_fraction': 0.5}. Best is trial 10 with value: 1.329410594263911.\u001b[0m\n",
            "\u001b[32m[I 2021-10-26 07:51:51,021]\u001b[0m Trial 12 finished with value: 1.363148872032055 and parameters: {'n_estimators': 10000, 'learning_rate': 0.19452125604952392, 'num_leaves': 1740, 'max_depth': 12, 'min_data_in_leaf': 1900, 'lambda_l1': 60, 'lambda_l2': 5, 'min_gain_to_split': 0.5690646896261485, 'bagging_fraction': 0.9, 'bagging_freq': 1, 'feature_fraction': 0.5}. Best is trial 10 with value: 1.329410594263911.\u001b[0m\n",
            "\u001b[32m[I 2021-10-26 07:51:57,546]\u001b[0m Trial 13 finished with value: 1.6296999187120194 and parameters: {'n_estimators': 10000, 'learning_rate': 0.19026687391450076, 'num_leaves': 880, 'max_depth': 10, 'min_data_in_leaf': 4900, 'lambda_l1': 70, 'lambda_l2': 0, 'min_gain_to_split': 0.07669266052884482, 'bagging_fraction': 0.8, 'bagging_freq': 1, 'feature_fraction': 0.6000000000000001}. Best is trial 10 with value: 1.329410594263911.\u001b[0m\n",
            "\u001b[32m[I 2021-10-26 07:52:00,664]\u001b[0m Trial 14 finished with value: 1.357437512595016 and parameters: {'n_estimators': 10000, 'learning_rate': 0.18422270577618416, 'num_leaves': 1860, 'max_depth': 11, 'min_data_in_leaf': 2200, 'lambda_l1': 35, 'lambda_l2': 20, 'min_gain_to_split': 2.011316974697424, 'bagging_fraction': 0.8, 'bagging_freq': 1, 'feature_fraction': 0.4}. Best is trial 10 with value: 1.329410594263911.\u001b[0m\n",
            "\u001b[32m[I 2021-10-26 07:52:02,584]\u001b[0m Trial 15 finished with value: 1.4774616797566695 and parameters: {'n_estimators': 10000, 'learning_rate': 0.297354435467148, 'num_leaves': 1280, 'max_depth': 10, 'min_data_in_leaf': 1300, 'lambda_l1': 50, 'lambda_l2': 75, 'min_gain_to_split': 9.275197757457484, 'bagging_fraction': 0.7, 'bagging_freq': 1, 'feature_fraction': 0.9}. Best is trial 10 with value: 1.329410594263911.\u001b[0m\n",
            "\u001b[32m[I 2021-10-26 07:52:03,259]\u001b[0m Trial 16 finished with value: 2.136604827384357 and parameters: {'n_estimators': 10000, 'learning_rate': 0.1417139714086964, 'num_leaves': 400, 'max_depth': 11, 'min_data_in_leaf': 7600, 'lambda_l1': 45, 'lambda_l2': 0, 'min_gain_to_split': 2.0332965339302547, 'bagging_fraction': 0.8, 'bagging_freq': 1, 'feature_fraction': 0.4}. Best is trial 10 with value: 1.329410594263911.\u001b[0m\n",
            "\u001b[32m[I 2021-10-26 07:52:06,144]\u001b[0m Trial 17 finished with value: 1.9250554236308897 and parameters: {'n_estimators': 10000, 'learning_rate': 0.23152329420523934, 'num_leaves': 2000, 'max_depth': 12, 'min_data_in_leaf': 3400, 'lambda_l1': 70, 'lambda_l2': 30, 'min_gain_to_split': 2.112347571747755, 'bagging_fraction': 0.7, 'bagging_freq': 1, 'feature_fraction': 0.7}. Best is trial 10 with value: 1.329410594263911.\u001b[0m\n",
            "\u001b[32m[I 2021-10-26 07:52:07,949]\u001b[0m Trial 18 finished with value: 1.735976536601773 and parameters: {'n_estimators': 10000, 'learning_rate': 0.28273759394171044, 'num_leaves': 1340, 'max_depth': 10, 'min_data_in_leaf': 5000, 'lambda_l1': 25, 'lambda_l2': 65, 'min_gain_to_split': 8.995216435550475, 'bagging_fraction': 0.7, 'bagging_freq': 1, 'feature_fraction': 0.4}. Best is trial 10 with value: 1.329410594263911.\u001b[0m\n",
            "\u001b[32m[I 2021-10-26 07:52:15,996]\u001b[0m Trial 19 finished with value: 1.1380643594384816 and parameters: {'n_estimators': 10000, 'learning_rate': 0.16815294025998284, 'num_leaves': 880, 'max_depth': 5, 'min_data_in_leaf': 1700, 'lambda_l1': 0, 'lambda_l2': 10, 'min_gain_to_split': 0.9611821778050054, 'bagging_fraction': 0.9, 'bagging_freq': 1, 'feature_fraction': 0.5}. Best is trial 19 with value: 1.1380643594384816.\u001b[0m\n",
            "\u001b[32m[I 2021-10-26 07:52:20,327]\u001b[0m Trial 20 finished with value: 1.1930754550359755 and parameters: {'n_estimators': 10000, 'learning_rate': 0.11395286504586583, 'num_leaves': 580, 'max_depth': 4, 'min_data_in_leaf': 200, 'lambda_l1': 10, 'lambda_l2': 15, 'min_gain_to_split': 2.5778152377693493, 'bagging_fraction': 0.9, 'bagging_freq': 1, 'feature_fraction': 0.6000000000000001}. Best is trial 19 with value: 1.1380643594384816.\u001b[0m\n",
            "\u001b[32m[I 2021-10-26 07:52:24,831]\u001b[0m Trial 21 finished with value: 1.1417579906376043 and parameters: {'n_estimators': 10000, 'learning_rate': 0.11914684539528111, 'num_leaves': 660, 'max_depth': 5, 'min_data_in_leaf': 200, 'lambda_l1': 0, 'lambda_l2': 15, 'min_gain_to_split': 3.065901776588544, 'bagging_fraction': 0.9, 'bagging_freq': 1, 'feature_fraction': 0.6000000000000001}. Best is trial 19 with value: 1.1380643594384816.\u001b[0m\n",
            "\u001b[32m[I 2021-10-26 07:52:30,152]\u001b[0m Trial 22 finished with value: 1.14466023926356 and parameters: {'n_estimators': 10000, 'learning_rate': 0.11539284328057053, 'num_leaves': 560, 'max_depth': 5, 'min_data_in_leaf': 200, 'lambda_l1': 0, 'lambda_l2': 25, 'min_gain_to_split': 3.0901314839902905, 'bagging_fraction': 0.9, 'bagging_freq': 1, 'feature_fraction': 0.7}. Best is trial 19 with value: 1.1380643594384816.\u001b[0m\n",
            "\u001b[32m[I 2021-10-26 07:52:34,094]\u001b[0m Trial 23 finished with value: 1.2130283677150937 and parameters: {'n_estimators': 10000, 'learning_rate': 0.1262736220648553, 'num_leaves': 680, 'max_depth': 5, 'min_data_in_leaf': 1200, 'lambda_l1': 0, 'lambda_l2': 30, 'min_gain_to_split': 5.076423094781566, 'bagging_fraction': 0.9, 'bagging_freq': 1, 'feature_fraction': 0.7}. Best is trial 19 with value: 1.1380643594384816.\u001b[0m\n",
            "\u001b[32m[I 2021-10-26 07:52:39,877]\u001b[0m Trial 24 finished with value: 1.1735202857756888 and parameters: {'n_estimators': 10000, 'learning_rate': 0.10599964144960929, 'num_leaves': 180, 'max_depth': 5, 'min_data_in_leaf': 1000, 'lambda_l1': 0, 'lambda_l2': 25, 'min_gain_to_split': 3.159511113950482, 'bagging_fraction': 0.9, 'bagging_freq': 1, 'feature_fraction': 0.8}. Best is trial 19 with value: 1.1380643594384816.\u001b[0m\n",
            "\u001b[32m[I 2021-10-26 07:52:45,184]\u001b[0m Trial 25 finished with value: 1.2791497414005057 and parameters: {'n_estimators': 10000, 'learning_rate': 0.036743087604136, 'num_leaves': 1040, 'max_depth': 5, 'min_data_in_leaf': 200, 'lambda_l1': 10, 'lambda_l2': 10, 'min_gain_to_split': 8.136947283040458, 'bagging_fraction': 0.7, 'bagging_freq': 1, 'feature_fraction': 0.7}. Best is trial 19 with value: 1.1380643594384816.\u001b[0m\n",
            "\u001b[32m[I 2021-10-26 07:52:47,446]\u001b[0m Trial 26 finished with value: 1.2990505118080287 and parameters: {'n_estimators': 10000, 'learning_rate': 0.21001813187556032, 'num_leaves': 420, 'max_depth': 3, 'min_data_in_leaf': 1400, 'lambda_l1': 20, 'lambda_l2': 25, 'min_gain_to_split': 5.322473564623111, 'bagging_fraction': 0.9, 'bagging_freq': 1, 'feature_fraction': 0.6000000000000001}. Best is trial 19 with value: 1.1380643594384816.\u001b[0m\n",
            "\u001b[32m[I 2021-10-26 07:52:58,538]\u001b[0m Trial 27 finished with value: 1.2191826746172632 and parameters: {'n_estimators': 10000, 'learning_rate': 0.15766003641215592, 'num_leaves': 680, 'max_depth': 6, 'min_data_in_leaf': 2800, 'lambda_l1': 0, 'lambda_l2': 10, 'min_gain_to_split': 1.3394377237038293, 'bagging_fraction': 0.8, 'bagging_freq': 1, 'feature_fraction': 0.6000000000000001}. Best is trial 19 with value: 1.1380643594384816.\u001b[0m\n",
            "\u001b[32m[I 2021-10-26 07:53:02,720]\u001b[0m Trial 28 finished with value: 1.2348954111907677 and parameters: {'n_estimators': 10000, 'learning_rate': 0.1398803017432503, 'num_leaves': 20, 'max_depth': 4, 'min_data_in_leaf': 1400, 'lambda_l1': 10, 'lambda_l2': 35, 'min_gain_to_split': 3.063554043020852, 'bagging_fraction': 0.9, 'bagging_freq': 1, 'feature_fraction': 0.9}. Best is trial 19 with value: 1.1380643594384816.\u001b[0m\n",
            "\u001b[32m[I 2021-10-26 07:53:03,478]\u001b[0m Trial 29 finished with value: 2.136604827384357 and parameters: {'n_estimators': 10000, 'learning_rate': 0.01307432540138767, 'num_leaves': 1120, 'max_depth': 6, 'min_data_in_leaf': 3800, 'lambda_l1': 15, 'lambda_l2': 40, 'min_gain_to_split': 1.3153026744054475, 'bagging_fraction': 0.4, 'bagging_freq': 1, 'feature_fraction': 0.8}. Best is trial 19 with value: 1.1380643594384816.\u001b[0m\n",
            "\u001b[32m[I 2021-10-26 07:53:05,831]\u001b[0m Trial 30 finished with value: 1.4151647581980902 and parameters: {'n_estimators': 10000, 'learning_rate': 0.0908510185983247, 'num_leaves': 380, 'max_depth': 5, 'min_data_in_leaf': 800, 'lambda_l1': 20, 'lambda_l2': 15, 'min_gain_to_split': 10.486632988961484, 'bagging_fraction': 0.5, 'bagging_freq': 1, 'feature_fraction': 0.7}. Best is trial 19 with value: 1.1380643594384816.\u001b[0m\n",
            "\u001b[32m[I 2021-10-26 07:53:10,446]\u001b[0m Trial 31 finished with value: 1.1816612350430757 and parameters: {'n_estimators': 10000, 'learning_rate': 0.10365278173979622, 'num_leaves': 200, 'max_depth': 5, 'min_data_in_leaf': 900, 'lambda_l1': 0, 'lambda_l2': 20, 'min_gain_to_split': 3.7544912130207515, 'bagging_fraction': 0.9, 'bagging_freq': 1, 'feature_fraction': 0.8}. Best is trial 19 with value: 1.1380643594384816.\u001b[0m\n",
            "\u001b[32m[I 2021-10-26 07:53:15,498]\u001b[0m Trial 32 finished with value: 1.182459040951064 and parameters: {'n_estimators': 10000, 'learning_rate': 0.10620324635916464, 'num_leaves': 820, 'max_depth': 6, 'min_data_in_leaf': 200, 'lambda_l1': 5, 'lambda_l2': 25, 'min_gain_to_split': 3.229915951124986, 'bagging_fraction': 0.8, 'bagging_freq': 1, 'feature_fraction': 0.8}. Best is trial 19 with value: 1.1380643594384816.\u001b[0m\n",
            "\u001b[32m[I 2021-10-26 07:53:26,988]\u001b[0m Trial 33 finished with value: 1.2388351466129355 and parameters: {'n_estimators': 10000, 'learning_rate': 0.04045096956498076, 'num_leaves': 1460, 'max_depth': 4, 'min_data_in_leaf': 1700, 'lambda_l1': 0, 'lambda_l2': 45, 'min_gain_to_split': 5.2041054447561255, 'bagging_fraction': 0.9, 'bagging_freq': 1, 'feature_fraction': 0.9}. Best is trial 19 with value: 1.1380643594384816.\u001b[0m\n",
            "\u001b[32m[I 2021-10-26 07:53:27,684]\u001b[0m Trial 34 finished with value: 2.136604827384357 and parameters: {'n_estimators': 10000, 'learning_rate': 0.12831523310773443, 'num_leaves': 300, 'max_depth': 3, 'min_data_in_leaf': 7400, 'lambda_l1': 10, 'lambda_l2': 25, 'min_gain_to_split': 1.5146759873379894, 'bagging_fraction': 0.9, 'bagging_freq': 1, 'feature_fraction': 0.8}. Best is trial 19 with value: 1.1380643594384816.\u001b[0m\n",
            "\u001b[32m[I 2021-10-26 07:53:31,356]\u001b[0m Trial 35 finished with value: 1.197881230402782 and parameters: {'n_estimators': 10000, 'learning_rate': 0.158611820564874, 'num_leaves': 540, 'max_depth': 4, 'min_data_in_leaf': 900, 'lambda_l1': 5, 'lambda_l2': 10, 'min_gain_to_split': 3.211842607090641, 'bagging_fraction': 0.8, 'bagging_freq': 1, 'feature_fraction': 0.7}. Best is trial 19 with value: 1.1380643594384816.\u001b[0m\n",
            "\u001b[32m[I 2021-10-26 07:53:35,481]\u001b[0m Trial 36 finished with value: 1.4728519894203218 and parameters: {'n_estimators': 10000, 'learning_rate': 0.093279213631023, 'num_leaves': 980, 'max_depth': 7, 'min_data_in_leaf': 3000, 'lambda_l1': 30, 'lambda_l2': 55, 'min_gain_to_split': 4.701256531691218, 'bagging_fraction': 0.7, 'bagging_freq': 1, 'feature_fraction': 0.7}. Best is trial 19 with value: 1.1380643594384816.\u001b[0m\n",
            "\u001b[32m[I 2021-10-26 07:53:36,168]\u001b[0m Trial 37 finished with value: 2.136604827384357 and parameters: {'n_estimators': 10000, 'learning_rate': 0.05451086607060071, 'num_leaves': 760, 'max_depth': 5, 'min_data_in_leaf': 8900, 'lambda_l1': 15, 'lambda_l2': 40, 'min_gain_to_split': 7.16944528985592, 'bagging_fraction': 0.9, 'bagging_freq': 1, 'feature_fraction': 0.6000000000000001}. Best is trial 19 with value: 1.1380643594384816.\u001b[0m\n",
            "\u001b[32m[I 2021-10-26 07:53:39,514]\u001b[0m Trial 38 finished with value: 1.3182622363692271 and parameters: {'n_estimators': 10000, 'learning_rate': 0.13470818517973276, 'num_leaves': 520, 'max_depth': 8, 'min_data_in_leaf': 2600, 'lambda_l1': 5, 'lambda_l2': 20, 'min_gain_to_split': 5.94757255006294, 'bagging_fraction': 0.8, 'bagging_freq': 1, 'feature_fraction': 0.5}. Best is trial 19 with value: 1.1380643594384816.\u001b[0m\n",
            "\u001b[32m[I 2021-10-26 07:53:40,223]\u001b[0m Trial 39 finished with value: 2.136604827384357 and parameters: {'n_estimators': 10000, 'learning_rate': 0.07057378689115089, 'num_leaves': 200, 'max_depth': 6, 'min_data_in_leaf': 4500, 'lambda_l1': 30, 'lambda_l2': 30, 'min_gain_to_split': 12.574155489658537, 'bagging_fraction': 0.30000000000000004, 'bagging_freq': 1, 'feature_fraction': 0.8}. Best is trial 19 with value: 1.1380643594384816.\u001b[0m\n",
            "\u001b[32m[I 2021-10-26 07:53:43,042]\u001b[0m Trial 40 finished with value: 1.2577742351188181 and parameters: {'n_estimators': 10000, 'learning_rate': 0.20719454793805786, 'num_leaves': 80, 'max_depth': 7, 'min_data_in_leaf': 700, 'lambda_l1': 15, 'lambda_l2': 15, 'min_gain_to_split': 2.593408972778103, 'bagging_fraction': 0.6000000000000001, 'bagging_freq': 1, 'feature_fraction': 0.9}. Best is trial 19 with value: 1.1380643594384816.\u001b[0m\n",
            "\u001b[32m[I 2021-10-26 07:53:47,871]\u001b[0m Trial 41 finished with value: 1.1875224960731774 and parameters: {'n_estimators': 10000, 'learning_rate': 0.10838407007958206, 'num_leaves': 200, 'max_depth': 5, 'min_data_in_leaf': 900, 'lambda_l1': 0, 'lambda_l2': 20, 'min_gain_to_split': 4.207327160177095, 'bagging_fraction': 0.9, 'bagging_freq': 1, 'feature_fraction': 0.8}. Best is trial 19 with value: 1.1380643594384816.\u001b[0m\n",
            "\u001b[32m[I 2021-10-26 07:53:53,617]\u001b[0m Trial 42 finished with value: 1.1919220201155656 and parameters: {'n_estimators': 10000, 'learning_rate': 0.09549000633941936, 'num_leaves': 260, 'max_depth': 5, 'min_data_in_leaf': 1600, 'lambda_l1': 0, 'lambda_l2': 5, 'min_gain_to_split': 3.75858499155507, 'bagging_fraction': 0.9, 'bagging_freq': 1, 'feature_fraction': 0.8}. Best is trial 19 with value: 1.1380643594384816.\u001b[0m\n",
            "\u001b[32m[I 2021-10-26 07:53:59,799]\u001b[0m Trial 43 finished with value: 1.2107952119487815 and parameters: {'n_estimators': 10000, 'learning_rate': 0.08074355951840151, 'num_leaves': 2980, 'max_depth': 6, 'min_data_in_leaf': 1000, 'lambda_l1': 5, 'lambda_l2': 20, 'min_gain_to_split': 3.803933024413221, 'bagging_fraction': 0.9, 'bagging_freq': 1, 'feature_fraction': 0.7}. Best is trial 19 with value: 1.1380643594384816.\u001b[0m\n",
            "\u001b[32m[I 2021-10-26 07:54:03,569]\u001b[0m Trial 44 finished with value: 1.193120259679639 and parameters: {'n_estimators': 10000, 'learning_rate': 0.15241837241775447, 'num_leaves': 620, 'max_depth': 4, 'min_data_in_leaf': 500, 'lambda_l1': 5, 'lambda_l2': 35, 'min_gain_to_split': 2.871719903704611, 'bagging_fraction': 0.8, 'bagging_freq': 1, 'feature_fraction': 0.7}. Best is trial 19 with value: 1.1380643594384816.\u001b[0m\n",
            "\u001b[32m[I 2021-10-26 07:54:12,708]\u001b[0m Trial 45 finished with value: 1.211273071857456 and parameters: {'n_estimators': 10000, 'learning_rate': 0.12192110568225153, 'num_leaves': 480, 'max_depth': 3, 'min_data_in_leaf': 2200, 'lambda_l1': 10, 'lambda_l2': 25, 'min_gain_to_split': 0.8039085181966228, 'bagging_fraction': 0.9, 'bagging_freq': 1, 'feature_fraction': 0.6000000000000001}. Best is trial 19 with value: 1.1380643594384816.\u001b[0m\n",
            "\u001b[32m[I 2021-10-26 07:54:13,447]\u001b[0m Trial 46 finished with value: 2.136604827384357 and parameters: {'n_estimators': 10000, 'learning_rate': 0.10628242299616185, 'num_leaves': 300, 'max_depth': 5, 'min_data_in_leaf': 5900, 'lambda_l1': 25, 'lambda_l2': 10, 'min_gain_to_split': 6.026936929519299, 'bagging_fraction': 0.8, 'bagging_freq': 1, 'feature_fraction': 0.5}. Best is trial 19 with value: 1.1380643594384816.\u001b[0m\n",
            "\u001b[32m[I 2021-10-26 07:54:16,105]\u001b[0m Trial 47 finished with value: 1.4510174494670016 and parameters: {'n_estimators': 10000, 'learning_rate': 0.16460475575778183, 'num_leaves': 800, 'max_depth': 4, 'min_data_in_leaf': 1800, 'lambda_l1': 85, 'lambda_l2': 15, 'min_gain_to_split': 1.752607842419257, 'bagging_fraction': 0.9, 'bagging_freq': 1, 'feature_fraction': 0.8}. Best is trial 19 with value: 1.1380643594384816.\u001b[0m\n",
            "\u001b[32m[I 2021-10-26 07:54:31,088]\u001b[0m Trial 48 finished with value: 1.0934061861873998 and parameters: {'n_estimators': 10000, 'learning_rate': 0.08179834985372536, 'num_leaves': 160, 'max_depth': 7, 'min_data_in_leaf': 700, 'lambda_l1': 0, 'lambda_l2': 5, 'min_gain_to_split': 0.8351071746419583, 'bagging_fraction': 0.8, 'bagging_freq': 1, 'feature_fraction': 0.5}. Best is trial 48 with value: 1.0934061861873998.\u001b[0m\n",
            "\u001b[32m[I 2021-10-26 07:54:43,038]\u001b[0m Trial 49 finished with value: 1.1838632624883754 and parameters: {'n_estimators': 10000, 'learning_rate': 0.05735688242518877, 'num_leaves': 1180, 'max_depth': 8, 'min_data_in_leaf': 400, 'lambda_l1': 15, 'lambda_l2': 5, 'min_gain_to_split': 0.9856643473776541, 'bagging_fraction': 0.8, 'bagging_freq': 1, 'feature_fraction': 0.4}. Best is trial 48 with value: 1.0934061861873998.\u001b[0m\n",
            "\u001b[32m[I 2021-10-26 07:55:28,723]\u001b[0m Trial 50 finished with value: 1.1869925306340763 and parameters: {'n_estimators': 10000, 'learning_rate': 0.07847357297951606, 'num_leaves': 20, 'max_depth': 9, 'min_data_in_leaf': 2400, 'lambda_l1': 5, 'lambda_l2': 0, 'min_gain_to_split': 0.03634005114182148, 'bagging_fraction': 0.7, 'bagging_freq': 1, 'feature_fraction': 0.5}. Best is trial 48 with value: 1.0934061861873998.\u001b[0m\n",
            "\u001b[32m[I 2021-10-26 07:55:35,911]\u001b[0m Trial 51 finished with value: 1.1530083103250137 and parameters: {'n_estimators': 10000, 'learning_rate': 0.10207635932722109, 'num_leaves': 140, 'max_depth': 6, 'min_data_in_leaf': 1100, 'lambda_l1': 0, 'lambda_l2': 10, 'min_gain_to_split': 2.43134382860853, 'bagging_fraction': 0.9, 'bagging_freq': 1, 'feature_fraction': 0.5}. Best is trial 48 with value: 1.0934061861873998.\u001b[0m\n",
            "\u001b[32m[I 2021-10-26 07:55:40,989]\u001b[0m Trial 52 finished with value: 1.154576834590636 and parameters: {'n_estimators': 10000, 'learning_rate': 0.1443360410655525, 'num_leaves': 140, 'max_depth': 7, 'min_data_in_leaf': 1200, 'lambda_l1': 0, 'lambda_l2': 10, 'min_gain_to_split': 2.352123760904561, 'bagging_fraction': 0.9, 'bagging_freq': 1, 'feature_fraction': 0.5}. Best is trial 48 with value: 1.0934061861873998.\u001b[0m\n",
            "\u001b[32m[I 2021-10-26 07:55:44,850]\u001b[0m Trial 53 finished with value: 1.2142779611165617 and parameters: {'n_estimators': 10000, 'learning_rate': 0.17714836373062914, 'num_leaves': 380, 'max_depth': 7, 'min_data_in_leaf': 1500, 'lambda_l1': 10, 'lambda_l2': 5, 'min_gain_to_split': 2.254730256452063, 'bagging_fraction': 0.9, 'bagging_freq': 1, 'feature_fraction': 0.4}. Best is trial 48 with value: 1.0934061861873998.\u001b[0m\n",
            "\u001b[32m[I 2021-10-26 07:55:51,014]\u001b[0m Trial 54 finished with value: 1.20243663882268 and parameters: {'n_estimators': 10000, 'learning_rate': 0.1430768842976036, 'num_leaves': 920, 'max_depth': 7, 'min_data_in_leaf': 600, 'lambda_l1': 20, 'lambda_l2': 10, 'min_gain_to_split': 0.6848782608032966, 'bagging_fraction': 0.8, 'bagging_freq': 1, 'feature_fraction': 0.5}. Best is trial 48 with value: 1.0934061861873998.\u001b[0m\n",
            "\u001b[32m[I 2021-10-26 07:55:56,859]\u001b[0m Trial 55 finished with value: 1.2129725682005743 and parameters: {'n_estimators': 10000, 'learning_rate': 0.11802603940217628, 'num_leaves': 640, 'max_depth': 6, 'min_data_in_leaf': 2000, 'lambda_l1': 5, 'lambda_l2': 0, 'min_gain_to_split': 2.3822423875048626, 'bagging_fraction': 0.9, 'bagging_freq': 1, 'feature_fraction': 0.5}. Best is trial 48 with value: 1.0934061861873998.\u001b[0m\n",
            "\u001b[32m[I 2021-10-26 07:56:02,810]\u001b[0m Trial 56 finished with value: 1.1135805689753329 and parameters: {'n_estimators': 10000, 'learning_rate': 0.15186291022351978, 'num_leaves': 120, 'max_depth': 7, 'min_data_in_leaf': 500, 'lambda_l1': 0, 'lambda_l2': 15, 'min_gain_to_split': 1.565813545948548, 'bagging_fraction': 0.8, 'bagging_freq': 1, 'feature_fraction': 0.6000000000000001}. Best is trial 48 with value: 1.0934061861873998.\u001b[0m\n",
            "\u001b[32m[I 2021-10-26 07:56:05,165]\u001b[0m Trial 57 finished with value: 1.621758159671639 and parameters: {'n_estimators': 10000, 'learning_rate': 0.1298447102660791, 'num_leaves': 440, 'max_depth': 9, 'min_data_in_leaf': 500, 'lambda_l1': 10, 'lambda_l2': 15, 'min_gain_to_split': 13.74435744948202, 'bagging_fraction': 0.7, 'bagging_freq': 1, 'feature_fraction': 0.6000000000000001}. Best is trial 48 with value: 1.0934061861873998.\u001b[0m\n",
            "\u001b[32m[I 2021-10-26 07:56:11,664]\u001b[0m Trial 58 finished with value: 1.1568541676578672 and parameters: {'n_estimators': 10000, 'learning_rate': 0.17044143988496574, 'num_leaves': 300, 'max_depth': 8, 'min_data_in_leaf': 300, 'lambda_l1': 5, 'lambda_l2': 75, 'min_gain_to_split': 1.2979645702279594, 'bagging_fraction': 0.8, 'bagging_freq': 1, 'feature_fraction': 0.30000000000000004}. Best is trial 48 with value: 1.0934061861873998.\u001b[0m\n",
            "\u001b[32m[I 2021-10-26 07:56:17,014]\u001b[0m Trial 59 finished with value: 1.410814659239801 and parameters: {'n_estimators': 10000, 'learning_rate': 0.08290356594842878, 'num_leaves': 100, 'max_depth': 6, 'min_data_in_leaf': 1200, 'lambda_l1': 60, 'lambda_l2': 5, 'min_gain_to_split': 0.3284018724674569, 'bagging_fraction': 0.6000000000000001, 'bagging_freq': 1, 'feature_fraction': 0.6000000000000001}. Best is trial 48 with value: 1.0934061861873998.\u001b[0m\n",
            "\u001b[32m[I 2021-10-26 07:56:47,165]\u001b[0m Trial 60 finished with value: 1.2890077956551225 and parameters: {'n_estimators': 10000, 'learning_rate': 0.04386355935611176, 'num_leaves': 1580, 'max_depth': 6, 'min_data_in_leaf': 3500, 'lambda_l1': 0, 'lambda_l2': 0, 'min_gain_to_split': 1.914756173479754, 'bagging_fraction': 0.8, 'bagging_freq': 1, 'feature_fraction': 0.4}. Best is trial 48 with value: 1.0934061861873998.\u001b[0m\n",
            "\u001b[32m[I 2021-10-26 07:56:57,212]\u001b[0m Trial 61 finished with value: 1.1178821314933267 and parameters: {'n_estimators': 10000, 'learning_rate': 0.1484629658676244, 'num_leaves': 120, 'max_depth': 7, 'min_data_in_leaf': 1200, 'lambda_l1': 0, 'lambda_l2': 10, 'min_gain_to_split': 1.0013170701603606, 'bagging_fraction': 0.9, 'bagging_freq': 1, 'feature_fraction': 0.5}. Best is trial 48 with value: 1.0934061861873998.\u001b[0m\n",
            "\u001b[32m[I 2021-10-26 07:57:05,779]\u001b[0m Trial 62 finished with value: 1.0983054659557892 and parameters: {'n_estimators': 10000, 'learning_rate': 0.1492253339714773, 'num_leaves': 740, 'max_depth': 7, 'min_data_in_leaf': 600, 'lambda_l1': 0, 'lambda_l2': 15, 'min_gain_to_split': 0.8418693909846142, 'bagging_fraction': 0.9, 'bagging_freq': 1, 'feature_fraction': 0.6000000000000001}. Best is trial 48 with value: 1.0934061861873998.\u001b[0m\n",
            "\u001b[32m[I 2021-10-26 07:57:09,526]\u001b[0m Trial 63 finished with value: 1.1771283514486237 and parameters: {'n_estimators': 10000, 'learning_rate': 0.20137622793603374, 'num_leaves': 1060, 'max_depth': 7, 'min_data_in_leaf': 200, 'lambda_l1': 15, 'lambda_l2': 15, 'min_gain_to_split': 0.9388601144010922, 'bagging_fraction': 0.8, 'bagging_freq': 1, 'feature_fraction': 0.6000000000000001}. Best is trial 48 with value: 1.0934061861873998.\u001b[0m\n",
            "\u001b[32m[I 2021-10-26 07:57:18,278]\u001b[0m Trial 64 finished with value: 1.111012142663804 and parameters: {'n_estimators': 10000, 'learning_rate': 0.18572616935544586, 'num_leaves': 760, 'max_depth': 8, 'min_data_in_leaf': 700, 'lambda_l1': 5, 'lambda_l2': 20, 'min_gain_to_split': 0.3227479228696942, 'bagging_fraction': 0.9, 'bagging_freq': 1, 'feature_fraction': 0.6000000000000001}. Best is trial 48 with value: 1.0934061861873998.\u001b[0m\n",
            "\u001b[32m[I 2021-10-26 07:57:25,019]\u001b[0m Trial 65 finished with value: 1.1047918717121976 and parameters: {'n_estimators': 10000, 'learning_rate': 0.22152414402461307, 'num_leaves': 760, 'max_depth': 8, 'min_data_in_leaf': 700, 'lambda_l1': 5, 'lambda_l2': 5, 'min_gain_to_split': 0.2895400919892792, 'bagging_fraction': 0.9, 'bagging_freq': 1, 'feature_fraction': 0.6000000000000001}. Best is trial 48 with value: 1.0934061861873998.\u001b[0m\n",
            "\u001b[32m[I 2021-10-26 07:57:35,583]\u001b[0m Trial 66 finished with value: 1.180726178268044 and parameters: {'n_estimators': 10000, 'learning_rate': 0.23065593658303213, 'num_leaves': 1340, 'max_depth': 8, 'min_data_in_leaf': 1800, 'lambda_l1': 10, 'lambda_l2': 5, 'min_gain_to_split': 0.5341546633913232, 'bagging_fraction': 0.8, 'bagging_freq': 1, 'feature_fraction': 0.6000000000000001}. Best is trial 48 with value: 1.0934061861873998.\u001b[0m\n",
            "\u001b[32m[I 2021-10-26 07:57:41,216]\u001b[0m Trial 67 finished with value: 1.2120675148054367 and parameters: {'n_estimators': 10000, 'learning_rate': 0.2608660644900196, 'num_leaves': 2440, 'max_depth': 9, 'min_data_in_leaf': 1500, 'lambda_l1': 25, 'lambda_l2': 5, 'min_gain_to_split': 0.14123190987008416, 'bagging_fraction': 0.9, 'bagging_freq': 1, 'feature_fraction': 0.5}. Best is trial 48 with value: 1.0934061861873998.\u001b[0m\n",
            "\u001b[32m[I 2021-10-26 07:57:50,151]\u001b[0m Trial 68 finished with value: 1.1604059263026552 and parameters: {'n_estimators': 10000, 'learning_rate': 0.22152945988714512, 'num_leaves': 900, 'max_depth': 8, 'min_data_in_leaf': 700, 'lambda_l1': 5, 'lambda_l2': 100, 'min_gain_to_split': 1.1037787201339389, 'bagging_fraction': 0.7, 'bagging_freq': 1, 'feature_fraction': 0.4}. Best is trial 48 with value: 1.0934061861873998.\u001b[0m\n",
            "\u001b[32m[I 2021-10-26 07:57:55,956]\u001b[0m Trial 69 finished with value: 1.3483568157829697 and parameters: {'n_estimators': 10000, 'learning_rate': 0.18444397139057683, 'num_leaves': 760, 'max_depth': 9, 'min_data_in_leaf': 2200, 'lambda_l1': 10, 'lambda_l2': 20, 'min_gain_to_split': 1.8558907736282233, 'bagging_fraction': 0.5, 'bagging_freq': 1, 'feature_fraction': 0.6000000000000001}. Best is trial 48 with value: 1.0934061861873998.\u001b[0m\n",
            "\u001b[32m[I 2021-10-26 07:57:58,230]\u001b[0m Trial 70 finished with value: 1.3078220813340684 and parameters: {'n_estimators': 10000, 'learning_rate': 0.2534031104275999, 'num_leaves': 720, 'max_depth': 8, 'min_data_in_leaf': 600, 'lambda_l1': 40, 'lambda_l2': 10, 'min_gain_to_split': 1.5499126951889455, 'bagging_fraction': 0.8, 'bagging_freq': 1, 'feature_fraction': 0.5}. Best is trial 48 with value: 1.0934061861873998.\u001b[0m\n",
            "\u001b[32m[I 2021-10-26 07:58:06,190]\u001b[0m Trial 71 finished with value: 1.1010690010119117 and parameters: {'n_estimators': 10000, 'learning_rate': 0.19086478454278022, 'num_leaves': 880, 'max_depth': 7, 'min_data_in_leaf': 1100, 'lambda_l1': 0, 'lambda_l2': 15, 'min_gain_to_split': 0.4901926242197584, 'bagging_fraction': 0.9, 'bagging_freq': 1, 'feature_fraction': 0.6000000000000001}. Best is trial 48 with value: 1.0934061861873998.\u001b[0m\n",
            "\u001b[32m[I 2021-10-26 07:58:16,234]\u001b[0m Trial 72 finished with value: 1.1028073473114228 and parameters: {'n_estimators': 10000, 'learning_rate': 0.19645390420770312, 'num_leaves': 1020, 'max_depth': 8, 'min_data_in_leaf': 1400, 'lambda_l1': 0, 'lambda_l2': 15, 'min_gain_to_split': 0.35595574521603224, 'bagging_fraction': 0.9, 'bagging_freq': 1, 'feature_fraction': 0.6000000000000001}. Best is trial 48 with value: 1.0934061861873998.\u001b[0m\n",
            "\u001b[32m[I 2021-10-26 07:58:26,948]\u001b[0m Trial 73 finished with value: 1.107497980307151 and parameters: {'n_estimators': 10000, 'learning_rate': 0.1949179874792965, 'num_leaves': 1280, 'max_depth': 7, 'min_data_in_leaf': 1300, 'lambda_l1': 5, 'lambda_l2': 30, 'min_gain_to_split': 0.06909999096966912, 'bagging_fraction': 0.9, 'bagging_freq': 1, 'feature_fraction': 0.6000000000000001}. Best is trial 48 with value: 1.0934061861873998.\u001b[0m\n",
            "\u001b[32m[I 2021-10-26 07:58:33,728]\u001b[0m Trial 74 finished with value: 1.1186067885686084 and parameters: {'n_estimators': 10000, 'learning_rate': 0.19481705189503193, 'num_leaves': 1320, 'max_depth': 8, 'min_data_in_leaf': 800, 'lambda_l1': 5, 'lambda_l2': 15, 'min_gain_to_split': 0.5594884407511969, 'bagging_fraction': 0.9, 'bagging_freq': 1, 'feature_fraction': 0.6000000000000001}. Best is trial 48 with value: 1.0934061861873998.\u001b[0m\n"
          ]
        }
      ]
    },
    {
      "cell_type": "code",
      "metadata": {
        "id": "pneHs7VqckHS",
        "colab": {
          "base_uri": "https://localhost:8080/"
        },
        "outputId": "7e24c746-2411-4d0f-faec-7249ae7451a8"
      },
      "source": [
        "print('Number of finished trials:', len(study.trials))\n",
        "print('Best trial:', study.best_trial.params)"
      ],
      "execution_count": null,
      "outputs": [
        {
          "output_type": "stream",
          "name": "stdout",
          "text": [
            "Number of finished trials: 75\n",
            "Best trial: {'n_estimators': 10000, 'learning_rate': 0.08179834985372536, 'num_leaves': 160, 'max_depth': 7, 'min_data_in_leaf': 700, 'lambda_l1': 0, 'lambda_l2': 5, 'min_gain_to_split': 0.8351071746419583, 'bagging_fraction': 0.8, 'bagging_freq': 1, 'feature_fraction': 0.5}\n"
          ]
        }
      ]
    },
    {
      "cell_type": "code",
      "metadata": {
        "colab": {
          "base_uri": "https://localhost:8080/"
        },
        "id": "zNQnci0Wm-1h",
        "outputId": "f193ff48-1546-4127-bdac-940786a56381"
      },
      "source": [
        "lg_params = study.best_trial.params\n",
        "lg_params"
      ],
      "execution_count": null,
      "outputs": [
        {
          "output_type": "execute_result",
          "data": {
            "text/plain": [
              "{'bagging_fraction': 0.8,\n",
              " 'bagging_freq': 1,\n",
              " 'feature_fraction': 0.5,\n",
              " 'lambda_l1': 0,\n",
              " 'lambda_l2': 5,\n",
              " 'learning_rate': 0.08179834985372536,\n",
              " 'max_depth': 7,\n",
              " 'min_data_in_leaf': 700,\n",
              " 'min_gain_to_split': 0.8351071746419583,\n",
              " 'n_estimators': 10000,\n",
              " 'num_leaves': 160}"
            ]
          },
          "metadata": {},
          "execution_count": 39
        }
      ]
    },
    {
      "cell_type": "markdown",
      "metadata": {
        "id": "Yo4cWrK1oDUf"
      },
      "source": [
        "##Cross-validation"
      ]
    },
    {
      "cell_type": "code",
      "metadata": {
        "id": "bHUXQnWMoGvU"
      },
      "source": [
        "def cross_val(X, y, model, params, folds=7):\n",
        "\n",
        "    loss = []\n",
        "    \n",
        "    skf = StratifiedKFold(n_splits=folds, shuffle=True, random_state=21)\n",
        "\n",
        "    for fold, (train_idx, test_idx) in enumerate(skf.split(X, y)):\n",
        "        print(f\"Fold: {fold+1}\")\n",
        "        x_train, y_train = X.iloc[train_idx], y.iloc[train_idx]\n",
        "        x_test, y_test = X.iloc[test_idx], y.iloc[test_idx]\n",
        " \n",
        "        alg = model(**params,random_state=2021)\n",
        "        alg.fit(x_train,y_train,eval_set=[(x_test,y_test)],verbose=False,early_stopping_rounds=100)\n",
        "\n",
        "        pred = alg.predict_proba(x_test)\n",
        "        log = log_loss(y_test, pred)\n",
        "        loss.append(log)\n",
        "     \n",
        "        print(f\" Log_loss: {log}\")\n",
        "        print(\"-\"*50)\n",
        "     \n",
        "    print(\"\\nmean log_loss:\",np.array(loss).mean())\n",
        "\n",
        "    return alg"
      ],
      "execution_count": null,
      "outputs": []
    },
    {
      "cell_type": "code",
      "metadata": {
        "colab": {
          "base_uri": "https://localhost:8080/"
        },
        "id": "kZACbwZ7ovSH",
        "outputId": "31bbe2d4-b710-4075-86b2-2d1bb5c437c4"
      },
      "source": [
        "score_lg = cross_val(x, y, LGBMClassifier, lg_params)"
      ],
      "execution_count": null,
      "outputs": [
        {
          "output_type": "stream",
          "name": "stdout",
          "text": [
            "Fold: 1\n",
            " Log_loss: 1.1100669655045408\n",
            "--------------------------------------------------\n",
            "Fold: 2\n",
            " Log_loss: 1.1031464262581097\n",
            "--------------------------------------------------\n",
            "Fold: 3\n",
            " Log_loss: 1.079215286855158\n",
            "--------------------------------------------------\n",
            "Fold: 4\n",
            " Log_loss: 1.056136593874037\n",
            "--------------------------------------------------\n",
            "Fold: 5\n",
            " Log_loss: 1.0953080341978378\n",
            "--------------------------------------------------\n",
            "Fold: 6\n",
            " Log_loss: 1.1043463714204387\n",
            "--------------------------------------------------\n",
            "Fold: 7\n",
            " Log_loss: 1.1072018227546203\n",
            "--------------------------------------------------\n",
            "\n",
            "mean log_loss: 1.0936316429806774\n"
          ]
        }
      ]
    },
    {
      "cell_type": "code",
      "metadata": {
        "id": "w4uKDpNbp56Y"
      },
      "source": [
        "# ngetest \n",
        "\n",
        "prob = score_lg.predict_proba(x_val)"
      ],
      "execution_count": null,
      "outputs": []
    },
    {
      "cell_type": "code",
      "metadata": {
        "colab": {
          "base_uri": "https://localhost:8080/"
        },
        "id": "H98V7rIFqEUI",
        "outputId": "9a34c9de-09bb-4fbd-b097-0d784d0b4c31"
      },
      "source": [
        "log_loss(y_val,prob)"
      ],
      "execution_count": null,
      "outputs": [
        {
          "output_type": "execute_result",
          "data": {
            "text/plain": [
              "0.9298632781470977"
            ]
          },
          "metadata": {},
          "execution_count": 58
        }
      ]
    },
    {
      "cell_type": "code",
      "metadata": {
        "colab": {
          "base_uri": "https://localhost:8080/"
        },
        "id": "AMWaMF01rP2S",
        "outputId": "db95f6f2-7bdf-4461-9b13-0556a167b472"
      },
      "source": [
        "print(f\"accuracy train: {score_lg.score(x_train, y_train)}\")\n",
        "print(f\"accuracy val: {score_lg.score(x_val, y_val)}\")"
      ],
      "execution_count": null,
      "outputs": [
        {
          "output_type": "stream",
          "name": "stdout",
          "text": [
            "accuracy train: 0.650805779383162\n",
            "accuracy val: 0.66\n"
          ]
        }
      ]
    },
    {
      "cell_type": "code",
      "metadata": {
        "colab": {
          "base_uri": "https://localhost:8080/",
          "height": 278
        },
        "id": "GvU3y7VGqVjv",
        "outputId": "3b928074-3e95-4be1-caaa-ddcd1c495969"
      },
      "source": [
        "\n",
        "fig, ax = plt.subplots(1, 1,figsize=(20,15)) \n",
        "\n",
        "plot_confusion_matrix(score_lg, x_val, y_val,ax=ax)"
      ],
      "execution_count": null,
      "outputs": [
        {
          "output_type": "execute_result",
          "data": {
            "text/plain": [
              "<sklearn.metrics._plot.confusion_matrix.ConfusionMatrixDisplay at 0x7f10c9b17690>"
            ]
          },
          "metadata": {},
          "execution_count": 63
        },
        {
          "output_type": "display_data",
          "data": {
            "image/png": "[encoded data removed]",
            "text/plain": [
              "<Figure size 1440x1080 with 2 Axes>"
            ]
          },
          "metadata": {
            "needs_background": "light"
          }
        }
      ]
    },
    {
      "cell_type": "code",
      "metadata": {
        "colab": {
          "base_uri": "https://localhost:8080/",
          "height": 443
        },
        "id": "vLuB3USlq-8Z",
        "outputId": "aaac68f9-655d-411c-fde5-46bdbe3dba89"
      },
      "source": [
        "classification_report(y_val, score_lg.predict(x_val))"
      ],
      "execution_count": null,
      "outputs": [
        {
          "output_type": "execute_result",
          "data": {
            "application/vnd.google.colaboratory.intrinsic+json": {
              "type": "string"
            },
            "text/plain": [
              "'               precision    recall  f1-score   support\\n\\nAcoustic/Folk       0.87      0.93      0.90       128\\n    Alt Music       0.58      0.05      0.10       280\\n        Blues       0.70      0.69      0.69       266\\n    Bollywood       0.92      0.91      0.91        88\\n      Country       0.81      0.93      0.87        70\\n       HipHop       0.77      0.80      0.78       301\\n    Indie Alt       0.54      0.49      0.51       525\\n Instrumental       0.98      0.98      0.98       106\\n        Metal       0.76      0.67      0.71       391\\n          Pop       0.67      0.65      0.66       498\\n         Rock       0.57      0.77      0.65       947\\n\\n     accuracy                           0.66      3600\\n    macro avg       0.74      0.72      0.71      3600\\n weighted avg       0.66      0.66      0.64      3600\\n'"
            ]
          },
          "metadata": {},
          "execution_count": 65
        }
      ]
    },
    {
      "cell_type": "code",
      "metadata": {
        "colab": {
          "base_uri": "https://localhost:8080/",
          "height": 370
        },
        "id": "tTJMxh-zt9Yg",
        "outputId": "fdc1598f-48ba-43d7-cab5-1ae6205714dc"
      },
      "source": [
        "# plot_feature_importance\n",
        "fig, ax = plt.subplots(1, 1,figsize=(15, 20))\n",
        "\n",
        "lightgbm.plot_importance(score_lg, ax=ax)"
      ],
      "execution_count": null,
      "outputs": [
        {
          "output_type": "execute_result",
          "data": {
            "text/plain": [
              "<matplotlib.axes._subplots.AxesSubplot at 0x7f10c990a0d0>"
            ]
          },
          "metadata": {},
          "execution_count": 91
        },
        {
          "output_type": "display_data",
          "data": {
            "image/png": "[encoded data removed]",
            "text/plain": [
              "<Figure size 1080x1440 with 1 Axes>"
            ]
          },
          "metadata": {
            "needs_background": "light"
          }
        }
      ]
    },
    {
      "cell_type": "markdown",
      "metadata": {
        "id": "LuKQxUn7rcIM"
      },
      "source": [
        " make a Subsmisism"
      ]
    },
    {
      "cell_type": "code",
      "metadata": {
        "id": "Mu3PGIqbrfr9"
      },
      "source": [
        "sub = pd.read_csv(\"/content/drive/MyDrive/Genre music classification/submission.csv\")"
      ],
      "execution_count": null,
      "outputs": []
    },
    {
      "cell_type": "code",
      "metadata": {
        "colab": {
          "base_uri": "https://localhost:8080/",
          "height": 456
        },
        "id": "bozDd5ntrpXn",
        "outputId": "98be89d7-7edc-4969-c025-cff013202650"
      },
      "source": [
        "sub"
      ],
      "execution_count": null,
      "outputs": [
        {
          "output_type": "execute_result",
          "data": {
            "text/html": [
              "<div>\n",
              "<style scoped>\n",
              "    .dataframe tbody tr th:only-of-type {\n",
              "        vertical-align: middle;\n",
              "    }\n",
              "\n",
              "    .dataframe tbody tr th {\n",
              "        vertical-align: top;\n",
              "    }\n",
              "\n",
              "    .dataframe thead th {\n",
              "        text-align: right;\n",
              "    }\n",
              "</style>\n",
              "<table border=\"1\" class=\"dataframe\">\n",
              "  <thead>\n",
              "    <tr style=\"text-align: right;\">\n",
              "      <th></th>\n",
              "      <th>Acoustic/Folk_0</th>\n",
              "      <th>Alt_Music_1</th>\n",
              "      <th>Blues_2</th>\n",
              "      <th>Bollywood_3</th>\n",
              "      <th>Country_4</th>\n",
              "      <th>HipHop_5</th>\n",
              "      <th>Indie Alt_6</th>\n",
              "      <th>Instrumental_7</th>\n",
              "      <th>Metal_8</th>\n",
              "      <th>Pop_9</th>\n",
              "      <th>Rock_10</th>\n",
              "    </tr>\n",
              "  </thead>\n",
              "  <tbody>\n",
              "    <tr>\n",
              "      <th>0</th>\n",
              "      <td>1</td>\n",
              "      <td>0</td>\n",
              "      <td>0</td>\n",
              "      <td>0</td>\n",
              "      <td>0</td>\n",
              "      <td>0</td>\n",
              "      <td>0</td>\n",
              "      <td>0</td>\n",
              "      <td>0</td>\n",
              "      <td>0</td>\n",
              "      <td>0</td>\n",
              "    </tr>\n",
              "    <tr>\n",
              "      <th>1</th>\n",
              "      <td>0</td>\n",
              "      <td>1</td>\n",
              "      <td>0</td>\n",
              "      <td>0</td>\n",
              "      <td>0</td>\n",
              "      <td>0</td>\n",
              "      <td>0</td>\n",
              "      <td>0</td>\n",
              "      <td>0</td>\n",
              "      <td>0</td>\n",
              "      <td>0</td>\n",
              "    </tr>\n",
              "    <tr>\n",
              "      <th>2</th>\n",
              "      <td>0</td>\n",
              "      <td>0</td>\n",
              "      <td>1</td>\n",
              "      <td>0</td>\n",
              "      <td>0</td>\n",
              "      <td>0</td>\n",
              "      <td>0</td>\n",
              "      <td>0</td>\n",
              "      <td>0</td>\n",
              "      <td>0</td>\n",
              "      <td>0</td>\n",
              "    </tr>\n",
              "    <tr>\n",
              "      <th>3</th>\n",
              "      <td>0</td>\n",
              "      <td>0</td>\n",
              "      <td>0</td>\n",
              "      <td>1</td>\n",
              "      <td>0</td>\n",
              "      <td>0</td>\n",
              "      <td>0</td>\n",
              "      <td>0</td>\n",
              "      <td>0</td>\n",
              "      <td>0</td>\n",
              "      <td>0</td>\n",
              "    </tr>\n",
              "    <tr>\n",
              "      <th>4</th>\n",
              "      <td>0</td>\n",
              "      <td>0</td>\n",
              "      <td>0</td>\n",
              "      <td>0</td>\n",
              "      <td>1</td>\n",
              "      <td>0</td>\n",
              "      <td>0</td>\n",
              "      <td>0</td>\n",
              "      <td>0</td>\n",
              "      <td>0</td>\n",
              "      <td>0</td>\n",
              "    </tr>\n",
              "    <tr>\n",
              "      <th>...</th>\n",
              "      <td>...</td>\n",
              "      <td>...</td>\n",
              "      <td>...</td>\n",
              "      <td>...</td>\n",
              "      <td>...</td>\n",
              "      <td>...</td>\n",
              "      <td>...</td>\n",
              "      <td>...</td>\n",
              "      <td>...</td>\n",
              "      <td>...</td>\n",
              "      <td>...</td>\n",
              "    </tr>\n",
              "    <tr>\n",
              "      <th>7708</th>\n",
              "      <td>0</td>\n",
              "      <td>0</td>\n",
              "      <td>0</td>\n",
              "      <td>0</td>\n",
              "      <td>0</td>\n",
              "      <td>0</td>\n",
              "      <td>0</td>\n",
              "      <td>0</td>\n",
              "      <td>0</td>\n",
              "      <td>0</td>\n",
              "      <td>0</td>\n",
              "    </tr>\n",
              "    <tr>\n",
              "      <th>7709</th>\n",
              "      <td>0</td>\n",
              "      <td>0</td>\n",
              "      <td>0</td>\n",
              "      <td>0</td>\n",
              "      <td>0</td>\n",
              "      <td>0</td>\n",
              "      <td>0</td>\n",
              "      <td>0</td>\n",
              "      <td>0</td>\n",
              "      <td>0</td>\n",
              "      <td>0</td>\n",
              "    </tr>\n",
              "    <tr>\n",
              "      <th>7710</th>\n",
              "      <td>0</td>\n",
              "      <td>0</td>\n",
              "      <td>0</td>\n",
              "      <td>0</td>\n",
              "      <td>0</td>\n",
              "      <td>0</td>\n",
              "      <td>0</td>\n",
              "      <td>0</td>\n",
              "      <td>0</td>\n",
              "      <td>0</td>\n",
              "      <td>0</td>\n",
              "    </tr>\n",
              "    <tr>\n",
              "      <th>7711</th>\n",
              "      <td>0</td>\n",
              "      <td>0</td>\n",
              "      <td>0</td>\n",
              "      <td>0</td>\n",
              "      <td>0</td>\n",
              "      <td>0</td>\n",
              "      <td>0</td>\n",
              "      <td>0</td>\n",
              "      <td>0</td>\n",
              "      <td>0</td>\n",
              "      <td>0</td>\n",
              "    </tr>\n",
              "    <tr>\n",
              "      <th>7712</th>\n",
              "      <td>0</td>\n",
              "      <td>0</td>\n",
              "      <td>0</td>\n",
              "      <td>0</td>\n",
              "      <td>0</td>\n",
              "      <td>0</td>\n",
              "      <td>0</td>\n",
              "      <td>0</td>\n",
              "      <td>0</td>\n",
              "      <td>0</td>\n",
              "      <td>0</td>\n",
              "    </tr>\n",
              "  </tbody>\n",
              "</table>\n",
              "<p>7713 rows × 11 columns</p>\n",
              "</div>"
            ],
            "text/plain": [
              "      Acoustic/Folk_0  Alt_Music_1  Blues_2  ...  Metal_8  Pop_9  Rock_10\n",
              "0                   1            0        0  ...        0      0        0\n",
              "1                   0            1        0  ...        0      0        0\n",
              "2                   0            0        1  ...        0      0        0\n",
              "3                   0            0        0  ...        0      0        0\n",
              "4                   0            0        0  ...        0      0        0\n",
              "...               ...          ...      ...  ...      ...    ...      ...\n",
              "7708                0            0        0  ...        0      0        0\n",
              "7709                0            0        0  ...        0      0        0\n",
              "7710                0            0        0  ...        0      0        0\n",
              "7711                0            0        0  ...        0      0        0\n",
              "7712                0            0        0  ...        0      0        0\n",
              "\n",
              "[7713 rows x 11 columns]"
            ]
          },
          "metadata": {},
          "execution_count": 68
        }
      ]
    },
    {
      "cell_type": "code",
      "metadata": {
        "id": "j2FLH_RHrrxA"
      },
      "source": [
        "# predict test \n",
        "\n",
        "y_test = score_lg.predict(tester)"
      ],
      "execution_count": null,
      "outputs": []
    },
    {
      "cell_type": "code",
      "metadata": {
        "colab": {
          "base_uri": "https://localhost:8080/",
          "height": 456
        },
        "id": "MCS4KN9gr1bF",
        "outputId": "9ae19eb2-b642-4e3d-8207-bf80b214ea6e"
      },
      "source": [
        "new_sub = pd.get_dummies(y_test)\n",
        "new_sub"
      ],
      "execution_count": null,
      "outputs": [
        {
          "output_type": "execute_result",
          "data": {
            "text/html": [
              "<div>\n",
              "<style scoped>\n",
              "    .dataframe tbody tr th:only-of-type {\n",
              "        vertical-align: middle;\n",
              "    }\n",
              "\n",
              "    .dataframe tbody tr th {\n",
              "        vertical-align: top;\n",
              "    }\n",
              "\n",
              "    .dataframe thead th {\n",
              "        text-align: right;\n",
              "    }\n",
              "</style>\n",
              "<table border=\"1\" class=\"dataframe\">\n",
              "  <thead>\n",
              "    <tr style=\"text-align: right;\">\n",
              "      <th></th>\n",
              "      <th>Acoustic/Folk</th>\n",
              "      <th>Alt Music</th>\n",
              "      <th>Blues</th>\n",
              "      <th>Bollywood</th>\n",
              "      <th>Country</th>\n",
              "      <th>HipHop</th>\n",
              "      <th>Indie Alt</th>\n",
              "      <th>Instrumental</th>\n",
              "      <th>Metal</th>\n",
              "      <th>Pop</th>\n",
              "      <th>Rock</th>\n",
              "    </tr>\n",
              "  </thead>\n",
              "  <tbody>\n",
              "    <tr>\n",
              "      <th>0</th>\n",
              "      <td>0</td>\n",
              "      <td>0</td>\n",
              "      <td>0</td>\n",
              "      <td>0</td>\n",
              "      <td>0</td>\n",
              "      <td>0</td>\n",
              "      <td>0</td>\n",
              "      <td>0</td>\n",
              "      <td>0</td>\n",
              "      <td>0</td>\n",
              "      <td>1</td>\n",
              "    </tr>\n",
              "    <tr>\n",
              "      <th>1</th>\n",
              "      <td>0</td>\n",
              "      <td>0</td>\n",
              "      <td>0</td>\n",
              "      <td>0</td>\n",
              "      <td>0</td>\n",
              "      <td>0</td>\n",
              "      <td>0</td>\n",
              "      <td>0</td>\n",
              "      <td>0</td>\n",
              "      <td>0</td>\n",
              "      <td>1</td>\n",
              "    </tr>\n",
              "    <tr>\n",
              "      <th>2</th>\n",
              "      <td>0</td>\n",
              "      <td>0</td>\n",
              "      <td>0</td>\n",
              "      <td>0</td>\n",
              "      <td>0</td>\n",
              "      <td>0</td>\n",
              "      <td>0</td>\n",
              "      <td>0</td>\n",
              "      <td>0</td>\n",
              "      <td>1</td>\n",
              "      <td>0</td>\n",
              "    </tr>\n",
              "    <tr>\n",
              "      <th>3</th>\n",
              "      <td>0</td>\n",
              "      <td>0</td>\n",
              "      <td>0</td>\n",
              "      <td>0</td>\n",
              "      <td>0</td>\n",
              "      <td>0</td>\n",
              "      <td>0</td>\n",
              "      <td>0</td>\n",
              "      <td>0</td>\n",
              "      <td>0</td>\n",
              "      <td>1</td>\n",
              "    </tr>\n",
              "    <tr>\n",
              "      <th>4</th>\n",
              "      <td>0</td>\n",
              "      <td>0</td>\n",
              "      <td>0</td>\n",
              "      <td>0</td>\n",
              "      <td>0</td>\n",
              "      <td>0</td>\n",
              "      <td>0</td>\n",
              "      <td>0</td>\n",
              "      <td>0</td>\n",
              "      <td>1</td>\n",
              "      <td>0</td>\n",
              "    </tr>\n",
              "    <tr>\n",
              "      <th>...</th>\n",
              "      <td>...</td>\n",
              "      <td>...</td>\n",
              "      <td>...</td>\n",
              "      <td>...</td>\n",
              "      <td>...</td>\n",
              "      <td>...</td>\n",
              "      <td>...</td>\n",
              "      <td>...</td>\n",
              "      <td>...</td>\n",
              "      <td>...</td>\n",
              "      <td>...</td>\n",
              "    </tr>\n",
              "    <tr>\n",
              "      <th>7708</th>\n",
              "      <td>0</td>\n",
              "      <td>0</td>\n",
              "      <td>0</td>\n",
              "      <td>0</td>\n",
              "      <td>0</td>\n",
              "      <td>0</td>\n",
              "      <td>0</td>\n",
              "      <td>0</td>\n",
              "      <td>0</td>\n",
              "      <td>1</td>\n",
              "      <td>0</td>\n",
              "    </tr>\n",
              "    <tr>\n",
              "      <th>7709</th>\n",
              "      <td>0</td>\n",
              "      <td>0</td>\n",
              "      <td>0</td>\n",
              "      <td>0</td>\n",
              "      <td>0</td>\n",
              "      <td>0</td>\n",
              "      <td>0</td>\n",
              "      <td>0</td>\n",
              "      <td>0</td>\n",
              "      <td>0</td>\n",
              "      <td>1</td>\n",
              "    </tr>\n",
              "    <tr>\n",
              "      <th>7710</th>\n",
              "      <td>0</td>\n",
              "      <td>0</td>\n",
              "      <td>0</td>\n",
              "      <td>0</td>\n",
              "      <td>0</td>\n",
              "      <td>0</td>\n",
              "      <td>0</td>\n",
              "      <td>0</td>\n",
              "      <td>0</td>\n",
              "      <td>1</td>\n",
              "      <td>0</td>\n",
              "    </tr>\n",
              "    <tr>\n",
              "      <th>7711</th>\n",
              "      <td>0</td>\n",
              "      <td>0</td>\n",
              "      <td>0</td>\n",
              "      <td>0</td>\n",
              "      <td>0</td>\n",
              "      <td>0</td>\n",
              "      <td>1</td>\n",
              "      <td>0</td>\n",
              "      <td>0</td>\n",
              "      <td>0</td>\n",
              "      <td>0</td>\n",
              "    </tr>\n",
              "    <tr>\n",
              "      <th>7712</th>\n",
              "      <td>0</td>\n",
              "      <td>0</td>\n",
              "      <td>0</td>\n",
              "      <td>0</td>\n",
              "      <td>0</td>\n",
              "      <td>1</td>\n",
              "      <td>0</td>\n",
              "      <td>0</td>\n",
              "      <td>0</td>\n",
              "      <td>0</td>\n",
              "      <td>0</td>\n",
              "    </tr>\n",
              "  </tbody>\n",
              "</table>\n",
              "<p>7713 rows × 11 columns</p>\n",
              "</div>"
            ],
            "text/plain": [
              "      Acoustic/Folk  Alt Music  Blues  ...  Metal  Pop  Rock\n",
              "0                 0          0      0  ...      0    0     1\n",
              "1                 0          0      0  ...      0    0     1\n",
              "2                 0          0      0  ...      0    1     0\n",
              "3                 0          0      0  ...      0    0     1\n",
              "4                 0          0      0  ...      0    1     0\n",
              "...             ...        ...    ...  ...    ...  ...   ...\n",
              "7708              0          0      0  ...      0    1     0\n",
              "7709              0          0      0  ...      0    0     1\n",
              "7710              0          0      0  ...      0    1     0\n",
              "7711              0          0      0  ...      0    0     0\n",
              "7712              0          0      0  ...      0    0     0\n",
              "\n",
              "[7713 rows x 11 columns]"
            ]
          },
          "metadata": {},
          "execution_count": 74
        }
      ]
    },
    {
      "cell_type": "code",
      "metadata": {
        "id": "iN6RMAJFsBX_"
      },
      "source": [
        "new_sub.to_csv(\"my_subs.csv\", index=False)"
      ],
      "execution_count": null,
      "outputs": []
    },
    {
      "cell_type": "code",
      "metadata": {
        "id": "-KBFpgd0ssBv"
      },
      "source": [
        ""
      ],
      "execution_count": null,
      "outputs": []
    }
  ]
}